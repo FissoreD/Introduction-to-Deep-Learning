{
  "cells": [
    {
      "cell_type": "markdown",
      "metadata": {
        "id": "R_c9ULzNvq_g"
      },
      "source": [
        "# Deep Learning: common issues and solutions"
      ]
    },
    {
      "cell_type": "code",
      "execution_count": 1,
      "metadata": {
        "id": "LZWNTH8xBB8g"
      },
      "outputs": [],
      "source": [
        "try:\n",
        "    from jyquickhelper import add_notebook_menu \n",
        "except:\n",
        "    !pip install jyquickhelper\n",
        "    from jyquickhelper import add_notebook_menu\n",
        "\n",
        "from sklearn.metrics import classification_report\n",
        "\n",
        "from sklearn.metrics import confusion_matrix"
      ]
    },
    {
      "cell_type": "code",
      "source": [
        "def myplot(history):\n",
        "    params = [\"accuracy\", \"loss\"]\n",
        "    fig, axs = plt.subplots(1, len(params), figsize=(15, 5))\n",
        "\n",
        "    for pos, e in enumerate(params):\n",
        "      # summarize history for accuracy\n",
        "      axs[pos].plot(history.history[f'{e}'])\n",
        "      axs[pos].plot(history.history[f'val_{e}'])\n",
        "      axs[pos].set_title(f'model {e}')\n",
        "      axs[pos].set_ylabel(f'{e}')\n",
        "      axs[pos].set_xlabel('epoch')\n",
        "      axs[pos].legend(['train', 'val'], loc='upper left')\n",
        "\n",
        "    plt.show()"
      ],
      "metadata": {
        "id": "5jxWqsnpJr9y"
      },
      "execution_count": 2,
      "outputs": []
    },
    {
      "cell_type": "code",
      "source": [
        "def evaluate_the_model(model, X_test_encoded, y_test):\n",
        "    y_pred_encoded = model.predict(X_test_encoded)\n",
        "    y_pred = np.argmax(y_pred_encoded, axis=1) + 1\n",
        "\n",
        "    print(classification_report(y_test, y_pred))\n",
        "    sns.heatmap(confusion_matrix(y_test, y_pred, normalize='true'), annot=True)"
      ],
      "metadata": {
        "id": "nfW0NgakSgjj"
      },
      "execution_count": 3,
      "outputs": []
    },
    {
      "cell_type": "markdown",
      "metadata": {
        "id": "UgzggwPnvq_o"
      },
      "source": [
        "## 1. Today lab\n",
        "\n",
        "In this lab, we are going to look at various architecture of recurrent neural network and how to use them with the Keras API.\n",
        "Note that this lab will be graded and will count towards you're TD grade. "
      ]
    },
    {
      "cell_type": "code",
      "execution_count": 4,
      "metadata": {
        "id": "AmQlCKQVvq_p",
        "outputId": "59605bcc-5604-447a-b1f0-2375388d1805",
        "toc": true,
        "colab": {
          "base_uri": "https://localhost:8080/",
          "height": 17
        }
      },
      "outputs": [
        {
          "output_type": "execute_result",
          "data": {
            "text/plain": [
              "<IPython.core.display.HTML object>"
            ],
            "text/html": [
              "<div id=\"my_id_menu_nb\">run previous cell, wait for 2 seconds</div>\n",
              "<script>\n",
              "function repeat_indent_string(n){\n",
              "    var a = \"\" ;\n",
              "    for ( ; n > 0 ; --n)\n",
              "        a += \"    \";\n",
              "    return a;\n",
              "}\n",
              "// look up into all sections and builds an automated menu //\n",
              "var update_menu_string = function(begin, lfirst, llast, sformat, send, keep_item, begin_format, end_format) {\n",
              "    var anchors = document.getElementsByClassName(\"section\");\n",
              "    if (anchors.length == 0) {\n",
              "        anchors = document.getElementsByClassName(\"text_cell_render rendered_html\");\n",
              "    }\n",
              "    var i,t;\n",
              "    var text_menu = begin;\n",
              "    var text_memo = \"<pre>\\nlength:\" + anchors.length + \"\\n\";\n",
              "    var ind = \"\";\n",
              "    var memo_level = 1;\n",
              "    var href;\n",
              "    var tags = [];\n",
              "    var main_item = 0;\n",
              "    var format_open = 0;\n",
              "    for (i = 0; i <= llast; i++)\n",
              "        tags.push(\"h\" + i);\n",
              "\n",
              "    for (i = 0; i < anchors.length; i++) {\n",
              "        text_memo += \"**\" + anchors[i].id + \"--\\n\";\n",
              "\n",
              "        var child = null;\n",
              "        for(t = 0; t < tags.length; t++) {\n",
              "            var r = anchors[i].getElementsByTagName(tags[t]);\n",
              "            if (r.length > 0) {\n",
              "child = r[0];\n",
              "break;\n",
              "            }\n",
              "        }\n",
              "        if (child == null) {\n",
              "            text_memo += \"null\\n\";\n",
              "            continue;\n",
              "        }\n",
              "        if (anchors[i].hasAttribute(\"id\")) {\n",
              "            // when converted in RST\n",
              "            href = anchors[i].id;\n",
              "            text_memo += \"#1-\" + href;\n",
              "            // passer à child suivant (le chercher)\n",
              "        }\n",
              "        else if (child.hasAttribute(\"id\")) {\n",
              "            // in a notebook\n",
              "            href = child.id;\n",
              "            text_memo += \"#2-\" + href;\n",
              "        }\n",
              "        else {\n",
              "            text_memo += \"#3-\" + \"*\" + \"\\n\";\n",
              "            continue;\n",
              "        }\n",
              "        var title = child.textContent;\n",
              "        var level = parseInt(child.tagName.substring(1,2));\n",
              "\n",
              "        text_memo += \"--\" + level + \"?\" + lfirst + \"--\" + title + \"\\n\";\n",
              "\n",
              "        if ((level < lfirst) || (level > llast)) {\n",
              "            continue ;\n",
              "        }\n",
              "        if (title.endsWith('¶')) {\n",
              "            title = title.substring(0,title.length-1).replace(\"<\", \"&lt;\")\n",
              "         .replace(\">\", \"&gt;\").replace(\"&\", \"&amp;\");\n",
              "        }\n",
              "        if (title.length == 0) {\n",
              "            continue;\n",
              "        }\n",
              "\n",
              "        while (level < memo_level) {\n",
              "            text_menu += end_format + \"</ul>\\n\";\n",
              "            format_open -= 1;\n",
              "            memo_level -= 1;\n",
              "        }\n",
              "        if (level == lfirst) {\n",
              "            main_item += 1;\n",
              "        }\n",
              "        if (keep_item != -1 && main_item != keep_item + 1) {\n",
              "            // alert(main_item + \" - \" + level + \" - \" + keep_item);\n",
              "            continue;\n",
              "        }\n",
              "        while (level > memo_level) {\n",
              "            text_menu += \"<ul>\\n\";\n",
              "            memo_level += 1;\n",
              "        }\n",
              "        text_menu += repeat_indent_string(level-2);\n",
              "        text_menu += begin_format + sformat.replace(\"__HREF__\", href).replace(\"__TITLE__\", title);\n",
              "        format_open += 1;\n",
              "    }\n",
              "    while (1 < memo_level) {\n",
              "        text_menu += end_format + \"</ul>\\n\";\n",
              "        memo_level -= 1;\n",
              "        format_open -= 1;\n",
              "    }\n",
              "    text_menu += send;\n",
              "    //text_menu += \"\\n\" + text_memo;\n",
              "\n",
              "    while (format_open > 0) {\n",
              "        text_menu += end_format;\n",
              "        format_open -= 1;\n",
              "    }\n",
              "    return text_menu;\n",
              "};\n",
              "var update_menu = function() {\n",
              "    var sbegin = \"\";\n",
              "    var sformat = '<a href=\"#__HREF__\">__TITLE__</a>';\n",
              "    var send = \"\";\n",
              "    var begin_format = '<li>';\n",
              "    var end_format = '</li>';\n",
              "    var keep_item = -1;\n",
              "    var text_menu = update_menu_string(sbegin, 2, 4, sformat, send, keep_item,\n",
              "       begin_format, end_format);\n",
              "    var menu = document.getElementById(\"my_id_menu_nb\");\n",
              "    menu.innerHTML=text_menu;\n",
              "};\n",
              "window.setTimeout(update_menu,2000);\n",
              "            </script>"
            ]
          },
          "metadata": {},
          "execution_count": 4
        }
      ],
      "source": [
        "add_notebook_menu()"
      ]
    },
    {
      "cell_type": "markdown",
      "metadata": {
        "id": "PZg2dPXvvq_q"
      },
      "source": [
        "# Dataset pre-processing\n",
        "\n",
        "In this lab, we will just re-use the dataset of previous lab providing Sentiment Analysis tasks. \n",
        "However, since we're using RNNs, we will work with sequence data therefore the preprocessing is a bit different than the previous lab."
      ]
    },
    {
      "cell_type": "code",
      "execution_count": 5,
      "metadata": {
        "ExecuteTime": {
          "end_time": "2021-10-20T16:26:00.288047Z",
          "start_time": "2021-10-20T16:25:45.846495Z"
        },
        "colab": {
          "base_uri": "https://localhost:8080/"
        },
        "id": "8wxTLStrvq_r",
        "outputId": "393eab86-9df6-4212-d4af-152c80da1d47",
        "scrolled": true
      },
      "outputs": [
        {
          "output_type": "stream",
          "name": "stderr",
          "text": [
            "[nltk_data] Downloading collection 'popular'\n",
            "[nltk_data]    | \n",
            "[nltk_data]    | Downloading package cmudict to /root/nltk_data...\n",
            "[nltk_data]    |   Package cmudict is already up-to-date!\n",
            "[nltk_data]    | Downloading package gazetteers to /root/nltk_data...\n",
            "[nltk_data]    |   Package gazetteers is already up-to-date!\n",
            "[nltk_data]    | Downloading package genesis to /root/nltk_data...\n",
            "[nltk_data]    |   Package genesis is already up-to-date!\n",
            "[nltk_data]    | Downloading package gutenberg to /root/nltk_data...\n",
            "[nltk_data]    |   Package gutenberg is already up-to-date!\n",
            "[nltk_data]    | Downloading package inaugural to /root/nltk_data...\n",
            "[nltk_data]    |   Package inaugural is already up-to-date!\n",
            "[nltk_data]    | Downloading package movie_reviews to\n",
            "[nltk_data]    |     /root/nltk_data...\n",
            "[nltk_data]    |   Package movie_reviews is already up-to-date!\n",
            "[nltk_data]    | Downloading package names to /root/nltk_data...\n",
            "[nltk_data]    |   Package names is already up-to-date!\n",
            "[nltk_data]    | Downloading package shakespeare to /root/nltk_data...\n",
            "[nltk_data]    |   Package shakespeare is already up-to-date!\n",
            "[nltk_data]    | Downloading package stopwords to /root/nltk_data...\n",
            "[nltk_data]    |   Package stopwords is already up-to-date!\n",
            "[nltk_data]    | Downloading package treebank to /root/nltk_data...\n",
            "[nltk_data]    |   Package treebank is already up-to-date!\n",
            "[nltk_data]    | Downloading package twitter_samples to\n",
            "[nltk_data]    |     /root/nltk_data...\n",
            "[nltk_data]    |   Package twitter_samples is already up-to-date!\n",
            "[nltk_data]    | Downloading package omw to /root/nltk_data...\n",
            "[nltk_data]    |   Package omw is already up-to-date!\n",
            "[nltk_data]    | Downloading package omw-1.4 to /root/nltk_data...\n",
            "[nltk_data]    |   Package omw-1.4 is already up-to-date!\n",
            "[nltk_data]    | Downloading package wordnet to /root/nltk_data...\n",
            "[nltk_data]    |   Package wordnet is already up-to-date!\n",
            "[nltk_data]    | Downloading package wordnet2021 to /root/nltk_data...\n",
            "[nltk_data]    |   Package wordnet2021 is already up-to-date!\n",
            "[nltk_data]    | Downloading package wordnet31 to /root/nltk_data...\n",
            "[nltk_data]    |   Package wordnet31 is already up-to-date!\n",
            "[nltk_data]    | Downloading package wordnet_ic to /root/nltk_data...\n",
            "[nltk_data]    |   Package wordnet_ic is already up-to-date!\n",
            "[nltk_data]    | Downloading package words to /root/nltk_data...\n",
            "[nltk_data]    |   Package words is already up-to-date!\n",
            "[nltk_data]    | Downloading package maxent_ne_chunker to\n",
            "[nltk_data]    |     /root/nltk_data...\n",
            "[nltk_data]    |   Package maxent_ne_chunker is already up-to-date!\n",
            "[nltk_data]    | Downloading package punkt to /root/nltk_data...\n",
            "[nltk_data]    |   Package punkt is already up-to-date!\n",
            "[nltk_data]    | Downloading package snowball_data to\n",
            "[nltk_data]    |     /root/nltk_data...\n",
            "[nltk_data]    |   Package snowball_data is already up-to-date!\n",
            "[nltk_data]    | Downloading package averaged_perceptron_tagger to\n",
            "[nltk_data]    |     /root/nltk_data...\n",
            "[nltk_data]    |   Package averaged_perceptron_tagger is already up-\n",
            "[nltk_data]    |       to-date!\n",
            "[nltk_data]    | \n",
            "[nltk_data]  Done downloading collection popular\n"
          ]
        },
        {
          "output_type": "execute_result",
          "data": {
            "text/plain": [
              "True"
            ]
          },
          "metadata": {},
          "execution_count": 5
        }
      ],
      "source": [
        "import pandas as pd\n",
        "import numpy as np\n",
        "import nltk\n",
        "import pylab as pl # package inheriting most of matplotlib package functions with shorter syntax \n",
        "import seaborn as sns\n",
        "\n",
        "nltk.download('popular')"
      ]
    },
    {
      "cell_type": "markdown",
      "metadata": {
        "id": "_vlbVhVpvq_s"
      },
      "source": [
        "### a) Essential reminder [About Train, validation and test sets](https://towardsdatascience.com/train-validation-and-test-sets-72cb40cba9e7)\n",
        "![test/train/val](https://miro.medium.com/max/1466/1*aNPC1ifHN2WydKHyEZYENg.png)\n",
        "\n",
        "* **Training Dataset:** The sample of data used to fit the model.\n",
        "* **Validation Dataset:** The sample of data used to provide an unbiased evaluation of a model fit on the training dataset while tuning model hyperparameters. The evaluation becomes more biased as skill on the validation dataset is incorporated into the model configuration.\n",
        "* **Test Dataset:** The sample of data used to provide an unbiased evaluation of a final model fit on the training dataset."
      ]
    },
    {
      "cell_type": "code",
      "execution_count": 6,
      "metadata": {
        "ExecuteTime": {
          "end_time": "2021-10-20T16:26:01.438539Z",
          "start_time": "2021-10-20T16:26:00.299220Z"
        },
        "colab": {
          "base_uri": "https://localhost:8080/",
          "height": 206
        },
        "id": "MLWzp9CAvq_t",
        "outputId": "9a8bfb16-41bd-4f36-dad8-bb702135beec"
      },
      "outputs": [
        {
          "output_type": "execute_result",
          "data": {
            "text/plain": [
              "                                        Product Name Brand Name   Price  \\\n",
              "0  Samsung Galaxy Note 4 N910C Unlocked Cellphone...    Samsung  449.99   \n",
              "1  BLU Energy X Plus Smartphone - With 4000 mAh S...        BLU  139.00   \n",
              "2                   Apple iPhone 6 128GB Silver AT&T      Apple  599.95   \n",
              "3  BLU Advance 4.0L Unlocked Smartphone -US GSM -...        BLU   51.99   \n",
              "4  Huawei P8 Lite US Version- 5 Unlocked Android ...     Huawei  198.99   \n",
              "\n",
              "   Rating                                            Reviews  Review Votes  \n",
              "0       4             I love it!!! I absolutely love it!! 👌👍           0.0  \n",
              "1       5  I love the BLU phones! This is my second one t...           4.0  \n",
              "2       5                                        Great phone           1.0  \n",
              "3       4  Very happy with the performance. The apps work...           2.0  \n",
              "4       5                            Easy to use great price           0.0  "
            ],
            "text/html": [
              "\n",
              "  <div id=\"df-abc5b07f-0456-4fc0-9b74-f53cb6d2d157\">\n",
              "    <div class=\"colab-df-container\">\n",
              "      <div>\n",
              "<style scoped>\n",
              "    .dataframe tbody tr th:only-of-type {\n",
              "        vertical-align: middle;\n",
              "    }\n",
              "\n",
              "    .dataframe tbody tr th {\n",
              "        vertical-align: top;\n",
              "    }\n",
              "\n",
              "    .dataframe thead th {\n",
              "        text-align: right;\n",
              "    }\n",
              "</style>\n",
              "<table border=\"1\" class=\"dataframe\">\n",
              "  <thead>\n",
              "    <tr style=\"text-align: right;\">\n",
              "      <th></th>\n",
              "      <th>Product Name</th>\n",
              "      <th>Brand Name</th>\n",
              "      <th>Price</th>\n",
              "      <th>Rating</th>\n",
              "      <th>Reviews</th>\n",
              "      <th>Review Votes</th>\n",
              "    </tr>\n",
              "  </thead>\n",
              "  <tbody>\n",
              "    <tr>\n",
              "      <th>0</th>\n",
              "      <td>Samsung Galaxy Note 4 N910C Unlocked Cellphone...</td>\n",
              "      <td>Samsung</td>\n",
              "      <td>449.99</td>\n",
              "      <td>4</td>\n",
              "      <td>I love it!!! I absolutely love it!! 👌👍</td>\n",
              "      <td>0.0</td>\n",
              "    </tr>\n",
              "    <tr>\n",
              "      <th>1</th>\n",
              "      <td>BLU Energy X Plus Smartphone - With 4000 mAh S...</td>\n",
              "      <td>BLU</td>\n",
              "      <td>139.00</td>\n",
              "      <td>5</td>\n",
              "      <td>I love the BLU phones! This is my second one t...</td>\n",
              "      <td>4.0</td>\n",
              "    </tr>\n",
              "    <tr>\n",
              "      <th>2</th>\n",
              "      <td>Apple iPhone 6 128GB Silver AT&amp;T</td>\n",
              "      <td>Apple</td>\n",
              "      <td>599.95</td>\n",
              "      <td>5</td>\n",
              "      <td>Great phone</td>\n",
              "      <td>1.0</td>\n",
              "    </tr>\n",
              "    <tr>\n",
              "      <th>3</th>\n",
              "      <td>BLU Advance 4.0L Unlocked Smartphone -US GSM -...</td>\n",
              "      <td>BLU</td>\n",
              "      <td>51.99</td>\n",
              "      <td>4</td>\n",
              "      <td>Very happy with the performance. The apps work...</td>\n",
              "      <td>2.0</td>\n",
              "    </tr>\n",
              "    <tr>\n",
              "      <th>4</th>\n",
              "      <td>Huawei P8 Lite US Version- 5 Unlocked Android ...</td>\n",
              "      <td>Huawei</td>\n",
              "      <td>198.99</td>\n",
              "      <td>5</td>\n",
              "      <td>Easy to use great price</td>\n",
              "      <td>0.0</td>\n",
              "    </tr>\n",
              "  </tbody>\n",
              "</table>\n",
              "</div>\n",
              "      <button class=\"colab-df-convert\" onclick=\"convertToInteractive('df-abc5b07f-0456-4fc0-9b74-f53cb6d2d157')\"\n",
              "              title=\"Convert this dataframe to an interactive table.\"\n",
              "              style=\"display:none;\">\n",
              "        \n",
              "  <svg xmlns=\"http://www.w3.org/2000/svg\" height=\"24px\"viewBox=\"0 0 24 24\"\n",
              "       width=\"24px\">\n",
              "    <path d=\"M0 0h24v24H0V0z\" fill=\"none\"/>\n",
              "    <path d=\"M18.56 5.44l.94 2.06.94-2.06 2.06-.94-2.06-.94-.94-2.06-.94 2.06-2.06.94zm-11 1L8.5 8.5l.94-2.06 2.06-.94-2.06-.94L8.5 2.5l-.94 2.06-2.06.94zm10 10l.94 2.06.94-2.06 2.06-.94-2.06-.94-.94-2.06-.94 2.06-2.06.94z\"/><path d=\"M17.41 7.96l-1.37-1.37c-.4-.4-.92-.59-1.43-.59-.52 0-1.04.2-1.43.59L10.3 9.45l-7.72 7.72c-.78.78-.78 2.05 0 2.83L4 21.41c.39.39.9.59 1.41.59.51 0 1.02-.2 1.41-.59l7.78-7.78 2.81-2.81c.8-.78.8-2.07 0-2.86zM5.41 20L4 18.59l7.72-7.72 1.47 1.35L5.41 20z\"/>\n",
              "  </svg>\n",
              "      </button>\n",
              "      \n",
              "  <style>\n",
              "    .colab-df-container {\n",
              "      display:flex;\n",
              "      flex-wrap:wrap;\n",
              "      gap: 12px;\n",
              "    }\n",
              "\n",
              "    .colab-df-convert {\n",
              "      background-color: #E8F0FE;\n",
              "      border: none;\n",
              "      border-radius: 50%;\n",
              "      cursor: pointer;\n",
              "      display: none;\n",
              "      fill: #1967D2;\n",
              "      height: 32px;\n",
              "      padding: 0 0 0 0;\n",
              "      width: 32px;\n",
              "    }\n",
              "\n",
              "    .colab-df-convert:hover {\n",
              "      background-color: #E2EBFA;\n",
              "      box-shadow: 0px 1px 2px rgba(60, 64, 67, 0.3), 0px 1px 3px 1px rgba(60, 64, 67, 0.15);\n",
              "      fill: #174EA6;\n",
              "    }\n",
              "\n",
              "    [theme=dark] .colab-df-convert {\n",
              "      background-color: #3B4455;\n",
              "      fill: #D2E3FC;\n",
              "    }\n",
              "\n",
              "    [theme=dark] .colab-df-convert:hover {\n",
              "      background-color: #434B5C;\n",
              "      box-shadow: 0px 1px 3px 1px rgba(0, 0, 0, 0.15);\n",
              "      filter: drop-shadow(0px 1px 2px rgba(0, 0, 0, 0.3));\n",
              "      fill: #FFFFFF;\n",
              "    }\n",
              "  </style>\n",
              "\n",
              "      <script>\n",
              "        const buttonEl =\n",
              "          document.querySelector('#df-abc5b07f-0456-4fc0-9b74-f53cb6d2d157 button.colab-df-convert');\n",
              "        buttonEl.style.display =\n",
              "          google.colab.kernel.accessAllowed ? 'block' : 'none';\n",
              "\n",
              "        async function convertToInteractive(key) {\n",
              "          const element = document.querySelector('#df-abc5b07f-0456-4fc0-9b74-f53cb6d2d157');\n",
              "          const dataTable =\n",
              "            await google.colab.kernel.invokeFunction('convertToInteractive',\n",
              "                                                     [key], {});\n",
              "          if (!dataTable) return;\n",
              "\n",
              "          const docLinkHtml = 'Like what you see? Visit the ' +\n",
              "            '<a target=\"_blank\" href=https://colab.research.google.com/notebooks/data_table.ipynb>data table notebook</a>'\n",
              "            + ' to learn more about interactive tables.';\n",
              "          element.innerHTML = '';\n",
              "          dataTable['output_type'] = 'display_data';\n",
              "          await google.colab.output.renderOutput(dataTable, element);\n",
              "          const docLink = document.createElement('div');\n",
              "          docLink.innerHTML = docLinkHtml;\n",
              "          element.appendChild(docLink);\n",
              "        }\n",
              "      </script>\n",
              "    </div>\n",
              "  </div>\n",
              "  "
            ]
          },
          "metadata": {},
          "execution_count": 6
        }
      ],
      "source": [
        "TRAIN = pd.read_csv(\"http://www.i3s.unice.fr/~riveill/dataset/Amazon_Unlocked_Mobile/train.csv.gz\")\n",
        "VAL = pd.read_csv(\"http://www.i3s.unice.fr/~riveill/dataset/Amazon_Unlocked_Mobile/val.csv.gz\")\n",
        "TEST = pd.read_csv(\"http://www.i3s.unice.fr/~riveill/dataset/Amazon_Unlocked_Mobile/test.csv.gz\")\n",
        "\n",
        "TRAIN.head()"
      ]
    },
    {
      "cell_type": "markdown",
      "metadata": {
        "id": "o2eC1L4fvq_0"
      },
      "source": [
        "### b) Build X (features vectors) and y (labels)"
      ]
    },
    {
      "cell_type": "code",
      "execution_count": 7,
      "metadata": {
        "ExecuteTime": {
          "end_time": "2021-01-04T10:16:24.050760Z",
          "start_time": "2021-01-04T10:16:24.046179Z"
        },
        "colab": {
          "base_uri": "https://localhost:8080/"
        },
        "id": "dOnscXEBvq_0",
        "outputId": "45256c53-d095-438b-e73c-c86475e46b24"
      },
      "outputs": [
        {
          "output_type": "execute_result",
          "data": {
            "text/plain": [
              "((5000,), (5000,))"
            ]
          },
          "metadata": {},
          "execution_count": 7
        }
      ],
      "source": [
        "# Construct X_train and y_train\n",
        "X_train = TRAIN['Reviews'].fillna(\"\")\n",
        "y_train = TRAIN['Rating']\n",
        "X_train.shape, y_train.shape"
      ]
    },
    {
      "cell_type": "code",
      "execution_count": 8,
      "metadata": {
        "ExecuteTime": {
          "end_time": "2021-01-04T10:16:25.030818Z",
          "start_time": "2021-01-04T10:16:25.025622Z"
        },
        "colab": {
          "base_uri": "https://localhost:8080/"
        },
        "id": "P6bCQYzPvq_0",
        "outputId": "9f420cb9-f313-47b5-e822-217a3e151a9a"
      },
      "outputs": [
        {
          "output_type": "execute_result",
          "data": {
            "text/plain": [
              "((1000,), (1000,))"
            ]
          },
          "metadata": {},
          "execution_count": 8
        }
      ],
      "source": [
        "# Construct X_val and y_val\n",
        "X_val = VAL['Reviews'].fillna(\"\")\n",
        "y_val = VAL['Rating']\n",
        "X_val.shape, y_val.shape"
      ]
    },
    {
      "cell_type": "code",
      "execution_count": 9,
      "metadata": {
        "ExecuteTime": {
          "end_time": "2021-01-04T10:16:26.409790Z",
          "start_time": "2021-01-04T10:16:26.405136Z"
        },
        "colab": {
          "base_uri": "https://localhost:8080/"
        },
        "id": "338OMkmHvq_1",
        "outputId": "19d2af70-4882-4b06-a859-439672485d79"
      },
      "outputs": [
        {
          "output_type": "execute_result",
          "data": {
            "text/plain": [
              "((1000,), (1000,))"
            ]
          },
          "metadata": {},
          "execution_count": 9
        }
      ],
      "source": [
        "# Construct X_test and y_test\n",
        "X_test = TEST['Reviews'].fillna(\"\")\n",
        "y_test = TEST['Rating']\n",
        "X_test.shape, y_test.shape"
      ]
    },
    {
      "cell_type": "code",
      "execution_count": 10,
      "metadata": {
        "id": "Z_XKcRR9vq_3"
      },
      "outputs": [],
      "source": [
        "from sklearn.preprocessing import OneHotEncoder"
      ]
    },
    {
      "cell_type": "code",
      "execution_count": 11,
      "metadata": {
        "id": "wm_xlpZPCupn"
      },
      "outputs": [],
      "source": [
        "ohe = OneHotEncoder(handle_unknown='ignore')\n",
        "y_train_encoded = ohe.fit_transform(np.array(y_train).reshape(-1, 1)).toarray()\n",
        "y_val_encoded = ohe.transform(np.array(y_val).reshape(-1, 1)).toarray()\n",
        "y_test_encoded = ohe.transform(np.array(y_test).reshape(-1, 1)).toarray()\n",
        "\n",
        "# Define constant\n",
        "n_classes = len(np.unique(y_train))"
      ]
    },
    {
      "cell_type": "markdown",
      "metadata": {
        "id": "HOWF83K3OtH-"
      },
      "source": [
        "[ TO DO STUDENTS]\n",
        "\n",
        "Use the following function to normalize your data. Each line corresponds to a normalization task, use the lines you find relevant and explain what they do."
      ]
    },
    {
      "cell_type": "code",
      "execution_count": 12,
      "metadata": {
        "colab": {
          "base_uri": "https://localhost:8080/"
        },
        "id": "lnRhK_AYOrzz",
        "outputId": "aa360158-e7aa-4c5f-eb7c-a4c16ad0e4ba"
      },
      "outputs": [
        {
          "output_type": "stream",
          "name": "stderr",
          "text": [
            "[nltk_data] Downloading collection 'popular'\n",
            "[nltk_data]    | \n",
            "[nltk_data]    | Downloading package cmudict to /root/nltk_data...\n",
            "[nltk_data]    |   Package cmudict is already up-to-date!\n",
            "[nltk_data]    | Downloading package gazetteers to /root/nltk_data...\n",
            "[nltk_data]    |   Package gazetteers is already up-to-date!\n",
            "[nltk_data]    | Downloading package genesis to /root/nltk_data...\n",
            "[nltk_data]    |   Package genesis is already up-to-date!\n",
            "[nltk_data]    | Downloading package gutenberg to /root/nltk_data...\n",
            "[nltk_data]    |   Package gutenberg is already up-to-date!\n",
            "[nltk_data]    | Downloading package inaugural to /root/nltk_data...\n",
            "[nltk_data]    |   Package inaugural is already up-to-date!\n",
            "[nltk_data]    | Downloading package movie_reviews to\n",
            "[nltk_data]    |     /root/nltk_data...\n",
            "[nltk_data]    |   Package movie_reviews is already up-to-date!\n",
            "[nltk_data]    | Downloading package names to /root/nltk_data...\n",
            "[nltk_data]    |   Package names is already up-to-date!\n",
            "[nltk_data]    | Downloading package shakespeare to /root/nltk_data...\n",
            "[nltk_data]    |   Package shakespeare is already up-to-date!\n",
            "[nltk_data]    | Downloading package stopwords to /root/nltk_data...\n",
            "[nltk_data]    |   Package stopwords is already up-to-date!\n",
            "[nltk_data]    | Downloading package treebank to /root/nltk_data...\n",
            "[nltk_data]    |   Package treebank is already up-to-date!\n",
            "[nltk_data]    | Downloading package twitter_samples to\n",
            "[nltk_data]    |     /root/nltk_data...\n",
            "[nltk_data]    |   Package twitter_samples is already up-to-date!\n",
            "[nltk_data]    | Downloading package omw to /root/nltk_data...\n",
            "[nltk_data]    |   Package omw is already up-to-date!\n",
            "[nltk_data]    | Downloading package omw-1.4 to /root/nltk_data...\n",
            "[nltk_data]    |   Package omw-1.4 is already up-to-date!\n",
            "[nltk_data]    | Downloading package wordnet to /root/nltk_data...\n",
            "[nltk_data]    |   Package wordnet is already up-to-date!\n",
            "[nltk_data]    | Downloading package wordnet2021 to /root/nltk_data...\n",
            "[nltk_data]    |   Package wordnet2021 is already up-to-date!\n",
            "[nltk_data]    | Downloading package wordnet31 to /root/nltk_data...\n",
            "[nltk_data]    |   Package wordnet31 is already up-to-date!\n",
            "[nltk_data]    | Downloading package wordnet_ic to /root/nltk_data...\n",
            "[nltk_data]    |   Package wordnet_ic is already up-to-date!\n",
            "[nltk_data]    | Downloading package words to /root/nltk_data...\n",
            "[nltk_data]    |   Package words is already up-to-date!\n",
            "[nltk_data]    | Downloading package maxent_ne_chunker to\n",
            "[nltk_data]    |     /root/nltk_data...\n",
            "[nltk_data]    |   Package maxent_ne_chunker is already up-to-date!\n",
            "[nltk_data]    | Downloading package punkt to /root/nltk_data...\n",
            "[nltk_data]    |   Package punkt is already up-to-date!\n",
            "[nltk_data]    | Downloading package snowball_data to\n",
            "[nltk_data]    |     /root/nltk_data...\n",
            "[nltk_data]    |   Package snowball_data is already up-to-date!\n",
            "[nltk_data]    | Downloading package averaged_perceptron_tagger to\n",
            "[nltk_data]    |     /root/nltk_data...\n",
            "[nltk_data]    |   Package averaged_perceptron_tagger is already up-\n",
            "[nltk_data]    |       to-date!\n",
            "[nltk_data]    | \n",
            "[nltk_data]  Done downloading collection popular\n"
          ]
        }
      ],
      "source": [
        "''' Put your code here '''\n",
        "import nltk\n",
        "nltk.download('popular')\n",
        "from nltk.tokenize import WhitespaceTokenizer\n",
        "from nltk.stem import WordNetLemmatizer, PorterStemmer\n",
        "from nltk.corpus import stopwords\n",
        "import string\n",
        "\n",
        "try:\n",
        "    import emoji\n",
        "except:\n",
        "    !pip install emoji\n",
        "    import emoji\n",
        "\n",
        "# instantiation of the stemmer to make the stemming preprocessing on the input\n",
        "stemmer = PorterStemmer().stem\n",
        "\n",
        "def clean_text(text):\n",
        "    # Concatenate a vector of words if the text is a vector\n",
        "    text = ''.join(text)\n",
        "    \n",
        "    # Normalizing by puuting every word to lower case\n",
        "    text = text.lower()\n",
        "    \n",
        "    # removing leading and trailing punctuation symbols\n",
        "    text = [word.strip(string.punctuation) for word in text.split(\" \")]\n",
        "    \n",
        "    # removing words containing digits\n",
        "    text = [word for word in text if not any(c.isdigit() for c in word)]\n",
        "    \n",
        "    # importing english stop words\n",
        "    stop = stopwords.words('english')\n",
        "    # cleaning from stop word\n",
        "    text = [x for x in text if x not in stop]\n",
        "    \n",
        "    # keep only words of length bigger than 0\n",
        "    text = [t for t in text if len(t) > 0]\n",
        "    \n",
        "    # stemming the text\n",
        "    text = [stemmer(t) for t in text]\n",
        "    \n",
        "    # keep only words on length bigger than 2\n",
        "    text = [t for t in text if len(t) > 2]\n",
        "    \n",
        "    return \" \".join(text)\n",
        "\n",
        "''' After this stage '''\n",
        "# X_train_norm contain normalized text for X_train\n",
        "# X_val_norm contain normalized text for X_val\n",
        "# X_test_norm contain normalized text for X_test\n",
        "X_train_norm = [clean_text(r) for r in X_train]\n",
        "X_val_norm = [clean_text(r) for r in X_val]\n",
        "X_test_norm = [clean_text(r) for r in X_test]\n"
      ]
    },
    {
      "cell_type": "markdown",
      "metadata": {
        "id": "677sMqJKQXdC"
      },
      "source": [
        "[ TO DO STUDENTS]\n",
        "\n",
        "Explain the role of tokenization and each argument of the fit_on_texts method"
      ]
    },
    {
      "cell_type": "markdown",
      "source": [
        "-- We use tokenization in order to split the text into tokens that will be next used in the learning phase."
      ],
      "metadata": {
        "id": "VvUXtRiK-2J0"
      }
    },
    {
      "cell_type": "code",
      "execution_count": 13,
      "metadata": {
        "colab": {
          "base_uri": "https://localhost:8080/"
        },
        "id": "2nY1ott3wYIf",
        "outputId": "8c7e0ed6-4c74-4c2b-a96f-3df7dea931a3"
      },
      "outputs": [
        {
          "output_type": "execute_result",
          "data": {
            "text/plain": [
              "13099"
            ]
          },
          "metadata": {},
          "execution_count": 13
        }
      ],
      "source": [
        "# Get the vocabulary size\n",
        "from nltk.tokenize import word_tokenize\n",
        "# nltk.download('punkt') # If nltk requires to download 'punkt' depending on your installation\n",
        "reviews_tokenized = [word_tokenize(review) for review in X_train]\n",
        "# Count the vocabulary\n",
        "flatten_reviews = [item for sublist in reviews_tokenized for item in sublist] # contain all words \n",
        "unique_words = list(set(flatten_reviews)) #processed as a list for future analysis\n",
        "vocabulary_size = len(unique_words) # set allows to get unique words contain in flatten_reviews\n",
        "vocabulary_size"
      ]
    },
    {
      "cell_type": "code",
      "execution_count": 14,
      "metadata": {
        "colab": {
          "base_uri": "https://localhost:8080/"
        },
        "id": "-cbH33j_vB-g",
        "outputId": "2aa03ab6-c7a2-4878-f950-572f07186829"
      },
      "outputs": [
        {
          "output_type": "stream",
          "name": "stdout",
          "text": [
            "Found 9292 unique tokens.\n"
          ]
        }
      ],
      "source": [
        "from tensorflow.keras.preprocessing.text import Tokenizer\n",
        "\n",
        "VOCABULARY_SIZE = vocabulary_size\n",
        "FILTERS='!\"#$%&()*+,-./:;<=>?@[\\\\]^_`{|}~\\t\\n'\n",
        "\n",
        "# create the tokenizer\n",
        "\n",
        "# instantiation of the tokenizer. Num of words is the cardinality of the set of \n",
        "# word of our text. The text will be filtered in order to remove punctuation \n",
        "# symbols. The lower = True, put the text in lower case. \n",
        "# split = ' ' -> The text is splitted into a list of word on the space character\n",
        "tokenizer = Tokenizer(num_words=VOCABULARY_SIZE,\n",
        "              filters=FILTERS,\n",
        "              lower=True,\n",
        "              split=' ',\n",
        "              oov_token=\"_UNK_\")\n",
        "\n",
        "# fit the tokenizer on the documents\n",
        "tokenizer.fit_on_texts(X_train)\n",
        "print('Found %s unique tokens.' % len(tokenizer.word_index))\n",
        "\n",
        "# encode documents\n",
        "X_train_enc = tokenizer.texts_to_sequences(X_train_norm)\n",
        "X_val_enc = tokenizer.texts_to_sequences(X_val_norm)\n",
        "X_test_enc = tokenizer.texts_to_sequences(X_test_norm)"
      ]
    },
    {
      "cell_type": "markdown",
      "metadata": {
        "id": "teuupbtWRq2i"
      },
      "source": [
        "[ TO DO STUDENTS]\n",
        "\n",
        "We now need to pad our sequences. Explain what padding is and find a good value for the padding length by looking at the distribution of the sequence lengths."
      ]
    },
    {
      "cell_type": "markdown",
      "source": [
        "We add padding to get vectors of same size. It is used for exaple to apply batch"
      ],
      "metadata": {
        "id": "WO41kVOIBQJo"
      }
    },
    {
      "cell_type": "code",
      "execution_count": 15,
      "metadata": {
        "colab": {
          "base_uri": "https://localhost:8080/",
          "height": 354
        },
        "id": "lPCpfUnkx_Wi",
        "outputId": "c6085a57-dfc5-473f-b6d4-428a39168f9b"
      },
      "outputs": [
        {
          "output_type": "execute_result",
          "data": {
            "text/plain": [
              "(array([4.56e+03, 2.91e+02, 8.20e+01, 2.90e+01, 1.20e+01, 9.00e+00,\n",
              "        7.00e+00, 4.00e+00, 3.00e+00, 3.00e+00]),\n",
              " array([  0. ,  51.2, 102.4, 153.6, 204.8, 256. , 307.2, 358.4, 409.6,\n",
              "        460.8, 512. ]),\n",
              " <a list of 10 Patch objects>)"
            ]
          },
          "metadata": {},
          "execution_count": 15
        },
        {
          "output_type": "display_data",
          "data": {
            "text/plain": [
              "<Figure size 432x288 with 1 Axes>"
            ],
            "image/png": "[encoded data removed]"
          },
          "metadata": {
            "needs_background": "light"
          }
        }
      ],
      "source": [
        "import matplotlib.pyplot as plt\n",
        "sequence_sizes = list(map(len, X_train_enc))\n",
        "plt.hist(sequence_sizes)"
      ]
    },
    {
      "cell_type": "code",
      "execution_count": 16,
      "metadata": {
        "colab": {
          "base_uri": "https://localhost:8080/"
        },
        "id": "qjCgLtoNxf4i",
        "outputId": "ccb9f013-843e-4468-fec7-1ec2742e724e"
      },
      "outputs": [
        {
          "output_type": "execute_result",
          "data": {
            "text/plain": [
              "(5000, 200)"
            ]
          },
          "metadata": {},
          "execution_count": 16
        }
      ],
      "source": [
        "from tensorflow.keras.preprocessing.sequence import pad_sequences\n",
        "\n",
        "# We can choose a length 200 for the padding since it is a length that: \n",
        "# 1. trunks those reviews that are too long, not giving a lot of useful\n",
        "# informations. Long sentences also add a lot of sparsity in the matrix.\n",
        "# 2. allows to keep the majority of reviews since they are within this bound.\n",
        "\n",
        "max_words = 200     # Nombre de mots dans une review\n",
        "padding_mode = 'pre'\n",
        "padding_value = 0\n",
        "truncating_mode='post'\n",
        "\n",
        "X_train_enc2 = pad_sequences(X_train_enc,\n",
        "                            maxlen=max_words,\n",
        "                            padding=padding_mode,\n",
        "                            truncating=truncating_mode,\n",
        "                            value=padding_value)\n",
        "X_val_enc2 = pad_sequences(X_val_enc,\n",
        "                            maxlen=max_words,\n",
        "                            padding=padding_mode,\n",
        "                            truncating=truncating_mode,\n",
        "                            value=padding_value)\n",
        "X_test_enc2 = pad_sequences(X_test_enc,\n",
        "                            maxlen=max_words,\n",
        "                            padding=padding_mode,\n",
        "                            truncating=truncating_mode,\n",
        "                            value=padding_value)\n",
        "X_train_enc2.shape"
      ]
    },
    {
      "cell_type": "markdown",
      "metadata": {
        "id": "sK8AVbCvSRIX"
      },
      "source": [
        "# Training RNN models"
      ]
    },
    {
      "cell_type": "markdown",
      "metadata": {
        "id": "6iznOt8OSYkU"
      },
      "source": [
        "We will now train various architectures of RNN on our data and evaluate their performances. We will be testing five baseline architectures. For each of them, build a simple model, train it on the train data and evaluate its performance on the test data.\n",
        "\n",
        "At the end of this section, you will be asked to present a comparative analysis of the models (in whatever way you want : a table, a plot, ...)"
      ]
    },
    {
      "cell_type": "markdown",
      "metadata": {
        "id": "OYAFMNPD4Jtq"
      },
      "source": [
        "## Simple RNN\n",
        "\n"
      ]
    },
    {
      "cell_type": "markdown",
      "metadata": {
        "id": "tnCKGoE_UzLC"
      },
      "source": [
        "[ TO DO STUDENTS]\n",
        "\n",
        "Briefly explain the role of the Embedding layer as well as the functionning the most basic RNN (Simple RNN layer).\n",
        "\n",
        "Then build, train and predict a model with a simpleRNN layer. Don't forget to store the results for the comparative analysis"
      ]
    },
    {
      "cell_type": "code",
      "execution_count": 17,
      "metadata": {
        "colab": {
          "base_uri": "https://localhost:8080/"
        },
        "id": "vXq8I2MD2icZ",
        "outputId": "b80d8019-7c86-49bd-f334-4d97f39629a5"
      },
      "outputs": [
        {
          "output_type": "stream",
          "name": "stdout",
          "text": [
            "Model: \"sequential\"\n",
            "_________________________________________________________________\n",
            " Layer (type)                Output Shape              Param #   \n",
            "=================================================================\n",
            " embedding (Embedding)       (None, 200, 50)           654950    \n",
            "                                                                 \n",
            " simple_rnn (SimpleRNN)      (None, 10)                610       \n",
            "                                                                 \n",
            " dense (Dense)               (None, 5)                 55        \n",
            "                                                                 \n",
            "=================================================================\n",
            "Total params: 655,615\n",
            "Trainable params: 655,615\n",
            "Non-trainable params: 0\n",
            "_________________________________________________________________\n",
            "None\n"
          ]
        }
      ],
      "source": [
        "import tensorflow as tf\n",
        "from keras import Sequential\n",
        "from keras.layers import Embedding, LSTM, Dense, Dropout, SimpleRNN, GRU\n",
        "embedding_size=50\n",
        "model1=Sequential()\n",
        "# We embed the text in order to vectorize the words and get informations allowing\n",
        "# us to know the similarity between two sentences looking at their vectors.\n",
        "# For example, queen-woman vector will be similar to the king-man vector.\n",
        "# Thanks to this similarity, we can make some operations to get for example\n",
        "# \"man\" starting with queen-king+woman\n",
        "# We can do a similar reasoning with capitals and country vectors and so on.\n",
        "# In this case we perform the embedding in order to compare reviews and\n",
        "# try to find similarities between them \n",
        "model1.add(Embedding(vocabulary_size, embedding_size, input_length=max_words))\n",
        "\n",
        "nb_classes = 5\n",
        "\n",
        "rnn = SimpleRNN(\n",
        "    10,\n",
        "    activation='tanh'\n",
        ")\n",
        "\n",
        "model1.add(rnn)\n",
        "\n",
        "# Output\n",
        "dense1 = Dense(units=nb_classes, activation=\"softmax\")\n",
        "\n",
        "model1.add(dense1)\n",
        "\n",
        "print(model1.summary())"
      ]
    },
    {
      "cell_type": "code",
      "execution_count": 18,
      "metadata": {
        "id": "QxHYoK942ice"
      },
      "outputs": [],
      "source": [
        "model1.compile(loss=\"categorical_crossentropy\",\n",
        "                  optimizer='adam', metrics=['accuracy'])"
      ]
    },
    {
      "cell_type": "code",
      "execution_count": 19,
      "metadata": {
        "colab": {
          "base_uri": "https://localhost:8080/"
        },
        "id": "JyXA4iJ12ich",
        "outputId": "be30f1a9-7971-43f2-b914-065972f15324"
      },
      "outputs": [
        {
          "output_type": "stream",
          "name": "stdout",
          "text": [
            "Epoch 1/100\n",
            "79/79 [==============================] - 20s 208ms/step - loss: 1.3551 - accuracy: 0.5078 - val_loss: 1.2430 - val_accuracy: 0.5550\n",
            "Epoch 2/100\n",
            "79/79 [==============================] - 13s 166ms/step - loss: 1.1988 - accuracy: 0.5470 - val_loss: 1.2015 - val_accuracy: 0.5670\n",
            "Epoch 3/100\n",
            "79/79 [==============================] - 13s 158ms/step - loss: 1.0764 - accuracy: 0.6060 - val_loss: 1.1601 - val_accuracy: 0.5990\n",
            "Epoch 4/100\n",
            "79/79 [==============================] - 14s 175ms/step - loss: 0.9475 - accuracy: 0.6862 - val_loss: 1.1203 - val_accuracy: 0.6190\n",
            "Epoch 5/100\n",
            "79/79 [==============================] - 13s 160ms/step - loss: 0.8365 - accuracy: 0.7358 - val_loss: 1.1028 - val_accuracy: 0.6240\n",
            "Epoch 6/100\n",
            "79/79 [==============================] - 15s 193ms/step - loss: 0.7821 - accuracy: 0.7710 - val_loss: 1.1387 - val_accuracy: 0.6070\n",
            "Epoch 7/100\n",
            "79/79 [==============================] - 13s 161ms/step - loss: 0.6840 - accuracy: 0.8076 - val_loss: 1.1599 - val_accuracy: 0.6160\n",
            "Epoch 8/100\n",
            "79/79 [==============================] - 14s 182ms/step - loss: 0.6115 - accuracy: 0.8348 - val_loss: 1.1486 - val_accuracy: 0.6260\n",
            "Epoch 9/100\n",
            "79/79 [==============================] - 12s 157ms/step - loss: 0.5455 - accuracy: 0.8576 - val_loss: 1.1573 - val_accuracy: 0.6250\n",
            "Epoch 10/100\n",
            "79/79 [==============================] - 13s 160ms/step - loss: 0.4899 - accuracy: 0.8736 - val_loss: 1.1797 - val_accuracy: 0.6140\n",
            "Epoch 11/100\n",
            "79/79 [==============================] - 13s 159ms/step - loss: 0.4469 - accuracy: 0.8836 - val_loss: 1.2099 - val_accuracy: 0.6030\n",
            "Epoch 12/100\n",
            "79/79 [==============================] - 13s 161ms/step - loss: 0.4082 - accuracy: 0.8962 - val_loss: 1.2265 - val_accuracy: 0.6110\n",
            "Epoch 13/100\n",
            "79/79 [==============================] - 14s 180ms/step - loss: 0.3739 - accuracy: 0.9068 - val_loss: 1.2512 - val_accuracy: 0.5960\n",
            "Epoch 14/100\n",
            "79/79 [==============================] - 14s 171ms/step - loss: 0.3464 - accuracy: 0.9150 - val_loss: 1.2831 - val_accuracy: 0.5870\n",
            "Epoch 15/100\n",
            "79/79 [==============================] - 13s 159ms/step - loss: 0.3250 - accuracy: 0.9192 - val_loss: 1.3084 - val_accuracy: 0.5930\n",
            "Epoch 16/100\n",
            "79/79 [==============================] - 13s 159ms/step - loss: 0.3030 - accuracy: 0.9274 - val_loss: 1.3353 - val_accuracy: 0.5860\n",
            "Epoch 17/100\n",
            "79/79 [==============================] - 13s 161ms/step - loss: 0.2862 - accuracy: 0.9286 - val_loss: 1.3679 - val_accuracy: 0.5820\n",
            "Epoch 18/100\n",
            "79/79 [==============================] - ETA: 0s - loss: 0.2738 - accuracy: 0.9336Restoring model weights from the end of the best epoch: 8.\n",
            "79/79 [==============================] - 14s 175ms/step - loss: 0.2738 - accuracy: 0.9336 - val_loss: 1.3816 - val_accuracy: 0.5910\n",
            "Epoch 18: early stopping\n"
          ]
        }
      ],
      "source": [
        "batch_size = 64\n",
        "num_epochs = 100\n",
        "\n",
        "es = tf.keras.callbacks.EarlyStopping(monitor='val_accuracy', mode='max', patience=10, restore_best_weights=True, verbose=1)\n",
        "\n",
        "# fit model\n",
        "history1 = model1.fit(\n",
        "    X_train_enc2, y_train_encoded, \n",
        "    validation_data=(X_val_enc2, y_val_encoded), \n",
        "    batch_size=batch_size,callbacks=[es], \n",
        "    epochs=num_epochs)"
      ]
    },
    {
      "cell_type": "code",
      "source": [
        "myplot(history1)"
      ],
      "metadata": {
        "colab": {
          "base_uri": "https://localhost:8080/",
          "height": 350
        },
        "id": "ynxGqEnoJljQ",
        "outputId": "3afa242a-430d-43e5-e393-2b50215fb94b"
      },
      "execution_count": 20,
      "outputs": [
        {
          "output_type": "display_data",
          "data": {
            "text/plain": [
              "<Figure size 1080x360 with 2 Axes>"
            ],
            "image/png": "[encoded data removed]"
          },
          "metadata": {
            "needs_background": "light"
          }
        }
      ]
    },
    {
      "cell_type": "markdown",
      "metadata": {
        "id": "7arzCc_Q4few"
      },
      "source": [
        "## GRU"
      ]
    },
    {
      "cell_type": "markdown",
      "metadata": {
        "id": "ZmIy16Y_ieYa"
      },
      "source": [
        "[ TO DO STUDENTS]\n",
        "\n",
        "Briefly explain the added benefit of a GRU model\n",
        "Build, train and predict a model with a GRU layer."
      ]
    },
    {
      "cell_type": "markdown",
      "source": [
        "GRU layer is a short-term Memory and it is a simplified version of the LSTM layer"
      ],
      "metadata": {
        "id": "fQtE6k8N3Z2Y"
      }
    },
    {
      "cell_type": "code",
      "execution_count": 21,
      "metadata": {
        "colab": {
          "base_uri": "https://localhost:8080/"
        },
        "id": "Wz3qQc7D4fex",
        "outputId": "001b3204-b389-4905-9f13-a53d58936758"
      },
      "outputs": [
        {
          "output_type": "stream",
          "name": "stdout",
          "text": [
            "Model: \"sequential_1\"\n",
            "_________________________________________________________________\n",
            " Layer (type)                Output Shape              Param #   \n",
            "=================================================================\n",
            " embedding_1 (Embedding)     (None, 200, 50)           654950    \n",
            "                                                                 \n",
            " gru (GRU)                   (None, 10)                1860      \n",
            "                                                                 \n",
            " dense_1 (Dense)             (None, 5)                 55        \n",
            "                                                                 \n",
            "=================================================================\n",
            "Total params: 656,865\n",
            "Trainable params: 656,865\n",
            "Non-trainable params: 0\n",
            "_________________________________________________________________\n",
            "None\n"
          ]
        }
      ],
      "source": [
        "embedding_size=50\n",
        "model2=Sequential()\n",
        "model2.add(Embedding(vocabulary_size, embedding_size, input_length=max_words))\n",
        "\n",
        "nb_classes = 5\n",
        "\n",
        "gru = GRU(\n",
        "    10,\n",
        "    activation='tanh'\n",
        ")\n",
        "\n",
        "model2.add(gru)\n",
        "\n",
        "# Output\n",
        "dense2 = Dense(units=nb_classes, activation=\"softmax\")\n",
        "\n",
        "model2.add(dense2)\n",
        "\n",
        "print(model2.summary())"
      ]
    },
    {
      "cell_type": "code",
      "execution_count": 22,
      "metadata": {
        "id": "EOJmpuFj4fey"
      },
      "outputs": [],
      "source": [
        "model2.compile(loss=\"categorical_crossentropy\",\n",
        "                  optimizer='adam', metrics=['accuracy'])"
      ]
    },
    {
      "cell_type": "code",
      "execution_count": 23,
      "metadata": {
        "colab": {
          "base_uri": "https://localhost:8080/"
        },
        "id": "asoGmYdr4fez",
        "outputId": "d88fe2c7-c025-4344-fb76-54d39e1309d5"
      },
      "outputs": [
        {
          "output_type": "stream",
          "name": "stdout",
          "text": [
            "Epoch 1/100\n",
            "79/79 [==============================] - 4s 17ms/step - loss: 1.4490 - accuracy: 0.5134 - val_loss: 1.2210 - val_accuracy: 0.5590\n",
            "Epoch 2/100\n",
            "79/79 [==============================] - 1s 11ms/step - loss: 1.1630 - accuracy: 0.5614 - val_loss: 1.1101 - val_accuracy: 0.5980\n",
            "Epoch 3/100\n",
            "79/79 [==============================] - 1s 10ms/step - loss: 1.0467 - accuracy: 0.6136 - val_loss: 1.0572 - val_accuracy: 0.6110\n",
            "Epoch 4/100\n",
            "79/79 [==============================] - 1s 10ms/step - loss: 0.9429 - accuracy: 0.6554 - val_loss: 1.0130 - val_accuracy: 0.6370\n",
            "Epoch 5/100\n",
            "79/79 [==============================] - 1s 10ms/step - loss: 0.8472 - accuracy: 0.6930 - val_loss: 1.0133 - val_accuracy: 0.6360\n",
            "Epoch 6/100\n",
            "79/79 [==============================] - 1s 10ms/step - loss: 0.7663 - accuracy: 0.7274 - val_loss: 1.0016 - val_accuracy: 0.6580\n",
            "Epoch 7/100\n",
            "79/79 [==============================] - 1s 10ms/step - loss: 0.7016 - accuracy: 0.7476 - val_loss: 1.0338 - val_accuracy: 0.6460\n",
            "Epoch 8/100\n",
            "79/79 [==============================] - 1s 10ms/step - loss: 0.6544 - accuracy: 0.7708 - val_loss: 1.0678 - val_accuracy: 0.6400\n",
            "Epoch 9/100\n",
            "79/79 [==============================] - 1s 10ms/step - loss: 0.6083 - accuracy: 0.7894 - val_loss: 1.1526 - val_accuracy: 0.6020\n",
            "Epoch 10/100\n",
            "79/79 [==============================] - 1s 10ms/step - loss: 0.5793 - accuracy: 0.8056 - val_loss: 1.1489 - val_accuracy: 0.6440\n",
            "Epoch 11/100\n",
            "79/79 [==============================] - 1s 10ms/step - loss: 0.5487 - accuracy: 0.8204 - val_loss: 1.1860 - val_accuracy: 0.6300\n",
            "Epoch 12/100\n",
            "79/79 [==============================] - 1s 10ms/step - loss: 0.5220 - accuracy: 0.8312 - val_loss: 1.2188 - val_accuracy: 0.6210\n",
            "Epoch 13/100\n",
            "79/79 [==============================] - 1s 10ms/step - loss: 0.4977 - accuracy: 0.8398 - val_loss: 1.2691 - val_accuracy: 0.6310\n",
            "Epoch 14/100\n",
            "79/79 [==============================] - 1s 10ms/step - loss: 0.4765 - accuracy: 0.8502 - val_loss: 1.3115 - val_accuracy: 0.6240\n",
            "Epoch 15/100\n",
            "79/79 [==============================] - 1s 10ms/step - loss: 0.4579 - accuracy: 0.8574 - val_loss: 1.3298 - val_accuracy: 0.6250\n",
            "Epoch 16/100\n",
            "78/79 [============================>.] - ETA: 0s - loss: 0.4380 - accuracy: 0.8680Restoring model weights from the end of the best epoch: 6.\n",
            "79/79 [==============================] - 1s 10ms/step - loss: 0.4386 - accuracy: 0.8680 - val_loss: 1.3925 - val_accuracy: 0.6160\n",
            "Epoch 16: early stopping\n"
          ]
        }
      ],
      "source": [
        "batch_size = 64\n",
        "num_epochs = 100\n",
        "\n",
        "es = tf.keras.callbacks.EarlyStopping(monitor='val_accuracy', mode='max', patience=10, restore_best_weights=True, verbose=1)\n",
        "\n",
        "# fit model\n",
        "history2 = model2.fit(\n",
        "    X_train_enc2, y_train_encoded, \n",
        "    validation_data=(X_val_enc2, y_val_encoded), \n",
        "    batch_size=batch_size,callbacks=[es], \n",
        "    epochs=num_epochs)"
      ]
    },
    {
      "cell_type": "code",
      "source": [
        "myplot(history2)"
      ],
      "metadata": {
        "colab": {
          "base_uri": "https://localhost:8080/",
          "height": 350
        },
        "id": "ucq9rn0NLOZW",
        "outputId": "d6355507-2216-48ac-e139-845ac1fa0e43"
      },
      "execution_count": 24,
      "outputs": [
        {
          "output_type": "display_data",
          "data": {
            "text/plain": [
              "<Figure size 1080x360 with 2 Axes>"
            ],
            "image/png": "[encoded data removed]"
          },
          "metadata": {
            "needs_background": "light"
          }
        }
      ]
    },
    {
      "cell_type": "markdown",
      "metadata": {
        "id": "ww2jDQPI4jj7"
      },
      "source": [
        "## LSTM\n",
        "[ TO DO STUDENTS]\n",
        "\n",
        "Briefly explain the added benefit of a LSTM model.\n",
        "Build, train and predict a model with a LSTM layer."
      ]
    },
    {
      "cell_type": "markdown",
      "source": [
        "LSTM layer is able to analyse not only one input at the time but, it has a \"Long short-term\" memory which tracks informations about the previous context. It is able to understand speech, machine translation and so on."
      ],
      "metadata": {
        "id": "O5tWKD5Y331R"
      }
    },
    {
      "cell_type": "code",
      "execution_count": 25,
      "metadata": {
        "colab": {
          "base_uri": "https://localhost:8080/"
        },
        "id": "4k2ZbJo34jj8",
        "outputId": "ff4e2356-6523-468c-c6fa-4b5e248d34c9"
      },
      "outputs": [
        {
          "output_type": "stream",
          "name": "stdout",
          "text": [
            "Model: \"sequential_2\"\n",
            "_________________________________________________________________\n",
            " Layer (type)                Output Shape              Param #   \n",
            "=================================================================\n",
            " embedding_2 (Embedding)     (None, 200, 50)           654950    \n",
            "                                                                 \n",
            " lstm (LSTM)                 (None, 10)                2440      \n",
            "                                                                 \n",
            " dense_2 (Dense)             (None, 5)                 55        \n",
            "                                                                 \n",
            "=================================================================\n",
            "Total params: 657,445\n",
            "Trainable params: 657,445\n",
            "Non-trainable params: 0\n",
            "_________________________________________________________________\n",
            "None\n"
          ]
        }
      ],
      "source": [
        "embedding_size=50\n",
        "model3=Sequential()\n",
        "model3.add(Embedding(vocabulary_size, embedding_size, input_length=max_words))\n",
        "\n",
        "nb_classes = 5\n",
        "\n",
        "lstm = LSTM(\n",
        "    10,\n",
        "    activation='tanh'\n",
        ")\n",
        "\n",
        "model3.add(lstm)\n",
        "\n",
        "# Output\n",
        "dense3 = Dense(units=nb_classes, activation=\"softmax\")\n",
        "\n",
        "model3.add(dense3)\n",
        "\n",
        "print(model3.summary())"
      ]
    },
    {
      "cell_type": "code",
      "execution_count": 26,
      "metadata": {
        "id": "z8Rqkmgw4jj8"
      },
      "outputs": [],
      "source": [
        "model3.compile(loss=\"categorical_crossentropy\",\n",
        "                  optimizer='adam', metrics=['accuracy'])"
      ]
    },
    {
      "cell_type": "code",
      "execution_count": 27,
      "metadata": {
        "colab": {
          "base_uri": "https://localhost:8080/"
        },
        "id": "5Jihfvh14jj9",
        "outputId": "5cf0cc99-a58f-48db-c8a0-f1df300e5020"
      },
      "outputs": [
        {
          "output_type": "stream",
          "name": "stdout",
          "text": [
            "Epoch 1/100\n",
            "79/79 [==============================] - 3s 23ms/step - loss: 1.3816 - accuracy: 0.5276 - val_loss: 1.2040 - val_accuracy: 0.5620\n",
            "Epoch 2/100\n",
            "79/79 [==============================] - 1s 16ms/step - loss: 1.1582 - accuracy: 0.5760 - val_loss: 1.0787 - val_accuracy: 0.6140\n",
            "Epoch 3/100\n",
            "79/79 [==============================] - 1s 11ms/step - loss: 1.0099 - accuracy: 0.6476 - val_loss: 0.9986 - val_accuracy: 0.6450\n",
            "Epoch 4/100\n",
            "79/79 [==============================] - 1s 11ms/step - loss: 0.9106 - accuracy: 0.6746 - val_loss: 0.9736 - val_accuracy: 0.6550\n",
            "Epoch 5/100\n",
            "79/79 [==============================] - 1s 11ms/step - loss: 0.8414 - accuracy: 0.6870 - val_loss: 0.9717 - val_accuracy: 0.6590\n",
            "Epoch 6/100\n",
            "79/79 [==============================] - 1s 11ms/step - loss: 0.7936 - accuracy: 0.7018 - val_loss: 0.9891 - val_accuracy: 0.6510\n",
            "Epoch 7/100\n",
            "79/79 [==============================] - 1s 11ms/step - loss: 0.7530 - accuracy: 0.7138 - val_loss: 0.9843 - val_accuracy: 0.6590\n",
            "Epoch 8/100\n",
            "79/79 [==============================] - 1s 11ms/step - loss: 0.7144 - accuracy: 0.7264 - val_loss: 1.0071 - val_accuracy: 0.6560\n",
            "Epoch 9/100\n",
            "79/79 [==============================] - 1s 10ms/step - loss: 0.6756 - accuracy: 0.7470 - val_loss: 1.0265 - val_accuracy: 0.6500\n",
            "Epoch 10/100\n",
            "79/79 [==============================] - 1s 12ms/step - loss: 0.6484 - accuracy: 0.7606 - val_loss: 1.0477 - val_accuracy: 0.6470\n",
            "Epoch 11/100\n",
            "79/79 [==============================] - 1s 10ms/step - loss: 0.6240 - accuracy: 0.7782 - val_loss: 1.0671 - val_accuracy: 0.6490\n",
            "Epoch 12/100\n",
            "79/79 [==============================] - 1s 11ms/step - loss: 0.5851 - accuracy: 0.8010 - val_loss: 1.1073 - val_accuracy: 0.6440\n",
            "Epoch 13/100\n",
            "79/79 [==============================] - 1s 11ms/step - loss: 0.5546 - accuracy: 0.8162 - val_loss: 1.1356 - val_accuracy: 0.6400\n",
            "Epoch 14/100\n",
            "79/79 [==============================] - 1s 11ms/step - loss: 0.5273 - accuracy: 0.8336 - val_loss: 1.1587 - val_accuracy: 0.6270\n",
            "Epoch 15/100\n",
            "79/79 [==============================] - ETA: 0s - loss: 0.5047 - accuracy: 0.8426Restoring model weights from the end of the best epoch: 5.\n",
            "79/79 [==============================] - 1s 10ms/step - loss: 0.5047 - accuracy: 0.8426 - val_loss: 1.1917 - val_accuracy: 0.6260\n",
            "Epoch 15: early stopping\n"
          ]
        }
      ],
      "source": [
        "batch_size = 64\n",
        "num_epochs = 100\n",
        "\n",
        "es = tf.keras.callbacks.EarlyStopping(monitor='val_accuracy', mode='max', patience=10, restore_best_weights=True, verbose=1)\n",
        "\n",
        "# fit model\n",
        "history3 = model3.fit(\n",
        "    X_train_enc2, y_train_encoded, \n",
        "    validation_data=(X_val_enc2, y_val_encoded), \n",
        "    batch_size=batch_size,callbacks=[es], \n",
        "    epochs=num_epochs)"
      ]
    },
    {
      "cell_type": "code",
      "source": [
        "myplot(history3)"
      ],
      "metadata": {
        "colab": {
          "base_uri": "https://localhost:8080/",
          "height": 350
        },
        "id": "9xpa5Sk8LG12",
        "outputId": "5bd30565-eb08-4652-aca1-4f13b8403331"
      },
      "execution_count": 28,
      "outputs": [
        {
          "output_type": "display_data",
          "data": {
            "text/plain": [
              "<Figure size 1080x360 with 2 Axes>"
            ],
            "image/png": "[encoded data removed]"
          },
          "metadata": {
            "needs_background": "light"
          }
        }
      ]
    },
    {
      "cell_type": "markdown",
      "metadata": {
        "id": "xWcUAD7S5udI"
      },
      "source": [
        "## Bidirectionnal LSTM \n",
        "[ TO DO STUDENTS]\n",
        "\n",
        "Briefly explain what the Bidirectional layer adds compared to a nomal LSTM.\n",
        "Build, train and predict a model with a LSTM layer."
      ]
    },
    {
      "cell_type": "markdown",
      "source": [
        "Bidirectional LSTM layers reads not only input from left to right but also from right to left. It may be useful if for example to have more precise information for example for the sematic of tokens (subject, verb...) of the corpus."
      ],
      "metadata": {
        "id": "o754CxPsNs2G"
      }
    },
    {
      "cell_type": "code",
      "execution_count": 29,
      "metadata": {
        "id": "5a_uwN6s5wdG",
        "colab": {
          "base_uri": "https://localhost:8080/"
        },
        "outputId": "240f1827-44cc-4965-c5b2-e584f1b6793b"
      },
      "outputs": [
        {
          "output_type": "stream",
          "name": "stdout",
          "text": [
            "Model: \"sequential_3\"\n",
            "_________________________________________________________________\n",
            " Layer (type)                Output Shape              Param #   \n",
            "=================================================================\n",
            " embedding_3 (Embedding)     (None, 200, 50)           654950    \n",
            "                                                                 \n",
            " bidirectional (Bidirectiona  (None, 20)               4880      \n",
            " l)                                                              \n",
            "                                                                 \n",
            " dense_3 (Dense)             (None, 5)                 105       \n",
            "                                                                 \n",
            "=================================================================\n",
            "Total params: 659,935\n",
            "Trainable params: 659,935\n",
            "Non-trainable params: 0\n",
            "_________________________________________________________________\n",
            "None\n"
          ]
        }
      ],
      "source": [
        "from keras.layers import Bidirectional\n",
        "embedding_size=50\n",
        "model4=Sequential()\n",
        "model4.add(Embedding(vocabulary_size, embedding_size, input_length=max_words))\n",
        "\n",
        "nb_classes = 5\n",
        "\n",
        "lstm = LSTM(\n",
        "    10,\n",
        "    activation='tanh'\n",
        ")\n",
        "\n",
        "bidir = Bidirectional(lstm)\n",
        "\n",
        "model4.add(bidir)\n",
        "\n",
        "# Output\n",
        "dense4 = Dense(units=nb_classes, activation=\"softmax\")\n",
        "\n",
        "model4.add(dense4)\n",
        "\n",
        "print(model4.summary())"
      ]
    },
    {
      "cell_type": "code",
      "execution_count": 30,
      "metadata": {
        "id": "3DWoMvq068-_"
      },
      "outputs": [],
      "source": [
        "model4.compile(loss=\"categorical_crossentropy\",\n",
        "                  optimizer='adam', metrics=['accuracy'])"
      ]
    },
    {
      "cell_type": "code",
      "execution_count": 31,
      "metadata": {
        "colab": {
          "base_uri": "https://localhost:8080/"
        },
        "id": "M-Gby89e68_B",
        "outputId": "a22a6361-a24e-41de-898e-5e439d1898ac"
      },
      "outputs": [
        {
          "output_type": "stream",
          "name": "stdout",
          "text": [
            "Epoch 1/100\n",
            "79/79 [==============================] - 5s 28ms/step - loss: 1.3507 - accuracy: 0.5362 - val_loss: 1.2046 - val_accuracy: 0.5590\n",
            "Epoch 2/100\n",
            "79/79 [==============================] - 1s 17ms/step - loss: 1.1772 - accuracy: 0.5592 - val_loss: 1.1113 - val_accuracy: 0.6050\n",
            "Epoch 3/100\n",
            "79/79 [==============================] - 1s 18ms/step - loss: 1.0425 - accuracy: 0.6370 - val_loss: 1.0034 - val_accuracy: 0.6480\n",
            "Epoch 4/100\n",
            "79/79 [==============================] - 1s 18ms/step - loss: 0.9241 - accuracy: 0.6728 - val_loss: 0.9727 - val_accuracy: 0.6650\n",
            "Epoch 5/100\n",
            "79/79 [==============================] - 1s 17ms/step - loss: 0.8475 - accuracy: 0.6908 - val_loss: 0.9681 - val_accuracy: 0.6620\n",
            "Epoch 6/100\n",
            "79/79 [==============================] - 1s 17ms/step - loss: 0.7800 - accuracy: 0.7118 - val_loss: 0.9755 - val_accuracy: 0.6680\n",
            "Epoch 7/100\n",
            "79/79 [==============================] - 1s 17ms/step - loss: 0.7319 - accuracy: 0.7374 - val_loss: 0.9847 - val_accuracy: 0.6540\n",
            "Epoch 8/100\n",
            "79/79 [==============================] - 1s 18ms/step - loss: 0.6783 - accuracy: 0.7702 - val_loss: 1.0109 - val_accuracy: 0.6440\n",
            "Epoch 9/100\n",
            "79/79 [==============================] - 1s 18ms/step - loss: 0.6345 - accuracy: 0.7842 - val_loss: 1.0573 - val_accuracy: 0.6440\n",
            "Epoch 10/100\n",
            "79/79 [==============================] - 1s 17ms/step - loss: 0.5970 - accuracy: 0.8032 - val_loss: 1.0706 - val_accuracy: 0.6330\n",
            "Epoch 11/100\n",
            "79/79 [==============================] - 1s 18ms/step - loss: 0.5756 - accuracy: 0.8050 - val_loss: 1.0911 - val_accuracy: 0.6450\n",
            "Epoch 12/100\n",
            "79/79 [==============================] - 1s 17ms/step - loss: 0.5389 - accuracy: 0.8194 - val_loss: 1.1355 - val_accuracy: 0.6480\n",
            "Epoch 13/100\n",
            "79/79 [==============================] - 1s 17ms/step - loss: 0.5238 - accuracy: 0.8274 - val_loss: 1.1614 - val_accuracy: 0.6340\n",
            "Epoch 14/100\n",
            "79/79 [==============================] - 1s 17ms/step - loss: 0.5073 - accuracy: 0.8296 - val_loss: 1.1685 - val_accuracy: 0.6330\n",
            "Epoch 15/100\n",
            "79/79 [==============================] - 1s 17ms/step - loss: 0.4800 - accuracy: 0.8420 - val_loss: 1.1961 - val_accuracy: 0.6330\n",
            "Epoch 16/100\n",
            "76/79 [===========================>..] - ETA: 0s - loss: 0.4744 - accuracy: 0.8423Restoring model weights from the end of the best epoch: 6.\n",
            "79/79 [==============================] - 1s 17ms/step - loss: 0.4723 - accuracy: 0.8432 - val_loss: 1.2435 - val_accuracy: 0.6310\n",
            "Epoch 16: early stopping\n"
          ]
        }
      ],
      "source": [
        "batch_size = 64\n",
        "num_epochs = 100\n",
        "\n",
        "es = tf.keras.callbacks.EarlyStopping(monitor='val_accuracy', mode='max', patience=10, restore_best_weights=True, verbose=1)\n",
        "\n",
        "# fit model\n",
        "history4 = model4.fit(\n",
        "    X_train_enc2, y_train_encoded, \n",
        "    validation_data=(X_val_enc2, y_val_encoded), \n",
        "    batch_size=batch_size,callbacks=[es], \n",
        "    epochs=num_epochs)"
      ]
    },
    {
      "cell_type": "code",
      "source": [
        "myplot(history4)"
      ],
      "metadata": {
        "colab": {
          "base_uri": "https://localhost:8080/",
          "height": 350
        },
        "id": "47H4wonrPzDO",
        "outputId": "9c050ea1-e57a-46b0-9ac7-ba4bbc844b0d"
      },
      "execution_count": 32,
      "outputs": [
        {
          "output_type": "display_data",
          "data": {
            "text/plain": [
              "<Figure size 1080x360 with 2 Axes>"
            ],
            "image/png": "[encoded data removed]"
          },
          "metadata": {
            "needs_background": "light"
          }
        }
      ]
    },
    {
      "cell_type": "markdown",
      "metadata": {
        "id": "lUgyFNxY6ITA"
      },
      "source": [
        "## Bidirectionnal LSTM with multiple layers\n",
        "\n",
        "[ TO DO STUDENTS]\n",
        "\n",
        "Build, train and predict a model with stacked LSTM layers."
      ]
    },
    {
      "cell_type": "code",
      "execution_count": 33,
      "metadata": {
        "id": "xXqCr-356F2D",
        "colab": {
          "base_uri": "https://localhost:8080/"
        },
        "outputId": "28671fc1-3968-433f-be6e-b1d9f3bf5a85"
      },
      "outputs": [
        {
          "output_type": "stream",
          "name": "stdout",
          "text": [
            "Model: \"sequential_4\"\n",
            "_________________________________________________________________\n",
            " Layer (type)                Output Shape              Param #   \n",
            "=================================================================\n",
            " embedding_4 (Embedding)     (None, 200, 50)           654950    \n",
            "                                                                 \n",
            " bidirectional_1 (Bidirectio  (None, 200, 20)          4880      \n",
            " nal)                                                            \n",
            "                                                                 \n",
            " bidirectional_2 (Bidirectio  (None, 20)               2480      \n",
            " nal)                                                            \n",
            "                                                                 \n",
            " dense_4 (Dense)             (None, 5)                 105       \n",
            "                                                                 \n",
            "=================================================================\n",
            "Total params: 662,415\n",
            "Trainable params: 662,415\n",
            "Non-trainable params: 0\n",
            "_________________________________________________________________\n",
            "None\n"
          ]
        }
      ],
      "source": [
        "model5=Sequential()\n",
        "model5.add(Embedding(vocabulary_size, embedding_size, input_length=max_words))\n",
        "\n",
        "nb_classes = 5\n",
        "num_layer = 2\n",
        "\n",
        "for i in range(num_layer):\n",
        "  lstm = LSTM(\n",
        "      10,\n",
        "      activation='tanh',\n",
        "      return_sequences=(i != num_layer - 1)\n",
        "  )\n",
        "\n",
        "  bidir = Bidirectional(lstm)\n",
        "\n",
        "  model5.add(bidir)\n",
        "\n",
        "# Output\n",
        "dense5 = Dense(units=nb_classes, activation=\"softmax\")\n",
        "\n",
        "model5.add(dense5)\n",
        "\n",
        "print(model5.summary())"
      ]
    },
    {
      "cell_type": "code",
      "execution_count": 34,
      "metadata": {
        "id": "BtRP-tgj8GjZ"
      },
      "outputs": [],
      "source": [
        "model5.compile(loss=\"categorical_crossentropy\",\n",
        "                  optimizer='adam', metrics=['accuracy'])"
      ]
    },
    {
      "cell_type": "code",
      "execution_count": 35,
      "metadata": {
        "colab": {
          "base_uri": "https://localhost:8080/"
        },
        "id": "DQg4bVIm8GjZ",
        "outputId": "14b41d08-50b5-4408-9496-0a5ddf4288ef"
      },
      "outputs": [
        {
          "output_type": "stream",
          "name": "stdout",
          "text": [
            "Epoch 1/100\n",
            "79/79 [==============================] - 9s 50ms/step - loss: 1.3212 - accuracy: 0.5298 - val_loss: 1.1933 - val_accuracy: 0.5590\n",
            "Epoch 2/100\n",
            "79/79 [==============================] - 3s 41ms/step - loss: 1.1481 - accuracy: 0.5804 - val_loss: 1.0401 - val_accuracy: 0.6390\n",
            "Epoch 3/100\n",
            "79/79 [==============================] - 2s 30ms/step - loss: 0.9770 - accuracy: 0.6572 - val_loss: 0.9923 - val_accuracy: 0.6630\n",
            "Epoch 4/100\n",
            "79/79 [==============================] - 2s 30ms/step - loss: 0.9064 - accuracy: 0.6766 - val_loss: 0.9889 - val_accuracy: 0.6560\n",
            "Epoch 5/100\n",
            "79/79 [==============================] - 2s 32ms/step - loss: 0.8383 - accuracy: 0.6968 - val_loss: 1.0348 - val_accuracy: 0.6230\n",
            "Epoch 6/100\n",
            "79/79 [==============================] - 2s 30ms/step - loss: 0.7871 - accuracy: 0.7156 - val_loss: 1.0240 - val_accuracy: 0.6500\n",
            "Epoch 7/100\n",
            "79/79 [==============================] - 2s 30ms/step - loss: 0.7485 - accuracy: 0.7308 - val_loss: 1.0364 - val_accuracy: 0.6440\n",
            "Epoch 8/100\n",
            "79/79 [==============================] - 2s 31ms/step - loss: 0.7085 - accuracy: 0.7544 - val_loss: 1.1106 - val_accuracy: 0.6110\n",
            "Epoch 9/100\n",
            "79/79 [==============================] - 2s 30ms/step - loss: 0.6766 - accuracy: 0.7674 - val_loss: 1.1134 - val_accuracy: 0.6270\n",
            "Epoch 10/100\n",
            "79/79 [==============================] - 2s 31ms/step - loss: 0.6398 - accuracy: 0.7806 - val_loss: 1.1316 - val_accuracy: 0.6340\n",
            "Epoch 11/100\n",
            "79/79 [==============================] - 2s 30ms/step - loss: 0.6067 - accuracy: 0.8018 - val_loss: 1.1598 - val_accuracy: 0.6180\n",
            "Epoch 12/100\n",
            "79/79 [==============================] - 2s 30ms/step - loss: 0.5799 - accuracy: 0.8128 - val_loss: 1.1940 - val_accuracy: 0.6270\n",
            "Epoch 13/100\n",
            "79/79 [==============================] - ETA: 0s - loss: 0.5555 - accuracy: 0.8248Restoring model weights from the end of the best epoch: 3.\n",
            "79/79 [==============================] - 2s 30ms/step - loss: 0.5555 - accuracy: 0.8248 - val_loss: 1.2240 - val_accuracy: 0.6240\n",
            "Epoch 13: early stopping\n"
          ]
        }
      ],
      "source": [
        "batch_size = 64\n",
        "num_epochs = 100\n",
        "\n",
        "es = tf.keras.callbacks.EarlyStopping(monitor='val_accuracy', mode='max', patience=10, restore_best_weights=True, verbose=1)\n",
        "\n",
        "# fit model\n",
        "history5 = model5.fit(\n",
        "    X_train_enc2, y_train_encoded, \n",
        "    validation_data=(X_val_enc2, y_val_encoded), \n",
        "    batch_size=batch_size,callbacks=[es], \n",
        "    epochs=num_epochs)"
      ]
    },
    {
      "cell_type": "code",
      "source": [
        "myplot(history5)"
      ],
      "metadata": {
        "colab": {
          "base_uri": "https://localhost:8080/",
          "height": 350
        },
        "id": "Y8YMVB_BQG0x",
        "outputId": "dc88ff17-81ef-4d7e-92f8-a5655a61dfde"
      },
      "execution_count": 36,
      "outputs": [
        {
          "output_type": "display_data",
          "data": {
            "text/plain": [
              "<Figure size 1080x360 with 2 Axes>"
            ],
            "image/png": "[encoded data removed]"
          },
          "metadata": {
            "needs_background": "light"
          }
        }
      ]
    },
    {
      "cell_type": "markdown",
      "metadata": {
        "id": "ndapkqQqi-p9"
      },
      "source": [
        "## Comparative analysis"
      ]
    },
    {
      "cell_type": "markdown",
      "metadata": {
        "id": "pveKimgElol7"
      },
      "source": [
        "[ TO DO STUDENTS]\n",
        "\n",
        "Present a comparative report of the results you obtained and comment those results"
      ]
    },
    {
      "cell_type": "markdown",
      "source": [
        "the list of confusion matrixes of previous models\n"
      ],
      "metadata": {
        "id": "ErO5rd95SzwR"
      }
    },
    {
      "cell_type": "code",
      "source": [
        "evaluate_the_model(model1, X_test_enc2, y_test)"
      ],
      "metadata": {
        "colab": {
          "base_uri": "https://localhost:8080/",
          "height": 0
        },
        "id": "cyRdY-S-SqHv",
        "outputId": "7af6a9e3-db92-4149-e6fe-c17692290e66"
      },
      "execution_count": 37,
      "outputs": [
        {
          "output_type": "stream",
          "name": "stdout",
          "text": [
            "32/32 [==============================] - 1s 15ms/step\n",
            "              precision    recall  f1-score   support\n",
            "\n",
            "           1       0.49      0.59      0.54       159\n",
            "           2       0.20      0.06      0.09        51\n",
            "           3       0.11      0.06      0.07        71\n",
            "           4       0.24      0.07      0.11       163\n",
            "           5       0.68      0.86      0.76       556\n",
            "\n",
            "    accuracy                           0.59      1000\n",
            "   macro avg       0.34      0.33      0.31      1000\n",
            "weighted avg       0.51      0.59      0.54      1000\n",
            "\n"
          ]
        },
        {
          "output_type": "display_data",
          "data": {
            "text/plain": [
              "<Figure size 432x288 with 2 Axes>"
            ],
            "image/png": "[encoded data removed]"
          },
          "metadata": {
            "needs_background": "light"
          }
        }
      ]
    },
    {
      "cell_type": "code",
      "source": [
        "evaluate_the_model(model2, X_test_enc2, y_test)"
      ],
      "metadata": {
        "colab": {
          "base_uri": "https://localhost:8080/",
          "height": 0
        },
        "id": "44go3HI0Tqoe",
        "outputId": "a306bbc3-c658-4391-a49d-2a38dffc8e48"
      },
      "execution_count": 38,
      "outputs": [
        {
          "output_type": "stream",
          "name": "stdout",
          "text": [
            "32/32 [==============================] - 0s 5ms/step\n",
            "              precision    recall  f1-score   support\n",
            "\n",
            "           1       0.54      0.67      0.60       159\n",
            "           2       0.36      0.10      0.15        51\n",
            "           3       0.00      0.00      0.00        71\n",
            "           4       0.30      0.17      0.21       163\n",
            "           5       0.71      0.90      0.79       556\n",
            "\n",
            "    accuracy                           0.64      1000\n",
            "   macro avg       0.38      0.37      0.35      1000\n",
            "weighted avg       0.55      0.64      0.58      1000\n",
            "\n"
          ]
        },
        {
          "output_type": "stream",
          "name": "stderr",
          "text": [
            "/usr/local/lib/python3.7/dist-packages/sklearn/metrics/_classification.py:1318: UndefinedMetricWarning: Precision and F-score are ill-defined and being set to 0.0 in labels with no predicted samples. Use `zero_division` parameter to control this behavior.\n",
            "  _warn_prf(average, modifier, msg_start, len(result))\n",
            "/usr/local/lib/python3.7/dist-packages/sklearn/metrics/_classification.py:1318: UndefinedMetricWarning: Precision and F-score are ill-defined and being set to 0.0 in labels with no predicted samples. Use `zero_division` parameter to control this behavior.\n",
            "  _warn_prf(average, modifier, msg_start, len(result))\n",
            "/usr/local/lib/python3.7/dist-packages/sklearn/metrics/_classification.py:1318: UndefinedMetricWarning: Precision and F-score are ill-defined and being set to 0.0 in labels with no predicted samples. Use `zero_division` parameter to control this behavior.\n",
            "  _warn_prf(average, modifier, msg_start, len(result))\n"
          ]
        },
        {
          "output_type": "display_data",
          "data": {
            "text/plain": [
              "<Figure size 432x288 with 2 Axes>"
            ],
            "image/png": "[encoded data removed]"
          },
          "metadata": {
            "needs_background": "light"
          }
        }
      ]
    },
    {
      "cell_type": "code",
      "source": [
        "evaluate_the_model(model3, X_test_enc2, y_test)"
      ],
      "metadata": {
        "colab": {
          "base_uri": "https://localhost:8080/",
          "height": 0
        },
        "id": "dOmUfTEGTtYI",
        "outputId": "148adf86-9259-4527-b033-4523a8fc8058"
      },
      "execution_count": 39,
      "outputs": [
        {
          "output_type": "stream",
          "name": "stdout",
          "text": [
            "32/32 [==============================] - 1s 5ms/step\n",
            "              precision    recall  f1-score   support\n",
            "\n",
            "           1       0.49      0.72      0.58       159\n",
            "           2       0.00      0.00      0.00        51\n",
            "           3       0.00      0.00      0.00        71\n",
            "           4       0.42      0.03      0.06       163\n",
            "           5       0.69      0.94      0.80       556\n",
            "\n",
            "    accuracy                           0.64      1000\n",
            "   macro avg       0.32      0.34      0.29      1000\n",
            "weighted avg       0.53      0.64      0.55      1000\n",
            "\n"
          ]
        },
        {
          "output_type": "stream",
          "name": "stderr",
          "text": [
            "/usr/local/lib/python3.7/dist-packages/sklearn/metrics/_classification.py:1318: UndefinedMetricWarning: Precision and F-score are ill-defined and being set to 0.0 in labels with no predicted samples. Use `zero_division` parameter to control this behavior.\n",
            "  _warn_prf(average, modifier, msg_start, len(result))\n",
            "/usr/local/lib/python3.7/dist-packages/sklearn/metrics/_classification.py:1318: UndefinedMetricWarning: Precision and F-score are ill-defined and being set to 0.0 in labels with no predicted samples. Use `zero_division` parameter to control this behavior.\n",
            "  _warn_prf(average, modifier, msg_start, len(result))\n",
            "/usr/local/lib/python3.7/dist-packages/sklearn/metrics/_classification.py:1318: UndefinedMetricWarning: Precision and F-score are ill-defined and being set to 0.0 in labels with no predicted samples. Use `zero_division` parameter to control this behavior.\n",
            "  _warn_prf(average, modifier, msg_start, len(result))\n"
          ]
        },
        {
          "output_type": "display_data",
          "data": {
            "text/plain": [
              "<Figure size 432x288 with 2 Axes>"
            ],
            "image/png": "[encoded data removed]"
          },
          "metadata": {
            "needs_background": "light"
          }
        }
      ]
    },
    {
      "cell_type": "code",
      "source": [
        "evaluate_the_model(model4, X_test_enc2, y_test)"
      ],
      "metadata": {
        "colab": {
          "base_uri": "https://localhost:8080/",
          "height": 0
        },
        "id": "oIDA1qtATx8Q",
        "outputId": "51b81e7c-7106-4d5d-f2cc-de8beab4bac9"
      },
      "execution_count": 40,
      "outputs": [
        {
          "output_type": "stream",
          "name": "stdout",
          "text": [
            "32/32 [==============================] - 1s 8ms/step\n",
            "              precision    recall  f1-score   support\n",
            "\n",
            "           1       0.48      0.67      0.56       159\n",
            "           2       0.00      0.00      0.00        51\n",
            "           3       0.10      0.01      0.02        71\n",
            "           4       0.32      0.07      0.11       163\n",
            "           5       0.71      0.93      0.80       556\n",
            "\n",
            "    accuracy                           0.64      1000\n",
            "   macro avg       0.32      0.34      0.30      1000\n",
            "weighted avg       0.53      0.64      0.56      1000\n",
            "\n"
          ]
        },
        {
          "output_type": "stream",
          "name": "stderr",
          "text": [
            "/usr/local/lib/python3.7/dist-packages/sklearn/metrics/_classification.py:1318: UndefinedMetricWarning: Precision and F-score are ill-defined and being set to 0.0 in labels with no predicted samples. Use `zero_division` parameter to control this behavior.\n",
            "  _warn_prf(average, modifier, msg_start, len(result))\n",
            "/usr/local/lib/python3.7/dist-packages/sklearn/metrics/_classification.py:1318: UndefinedMetricWarning: Precision and F-score are ill-defined and being set to 0.0 in labels with no predicted samples. Use `zero_division` parameter to control this behavior.\n",
            "  _warn_prf(average, modifier, msg_start, len(result))\n",
            "/usr/local/lib/python3.7/dist-packages/sklearn/metrics/_classification.py:1318: UndefinedMetricWarning: Precision and F-score are ill-defined and being set to 0.0 in labels with no predicted samples. Use `zero_division` parameter to control this behavior.\n",
            "  _warn_prf(average, modifier, msg_start, len(result))\n"
          ]
        },
        {
          "output_type": "display_data",
          "data": {
            "text/plain": [
              "<Figure size 432x288 with 2 Axes>"
            ],
            "image/png": "[encoded data removed]"
          },
          "metadata": {
            "needs_background": "light"
          }
        }
      ]
    },
    {
      "cell_type": "code",
      "source": [
        "evaluate_the_model(model5, X_test_enc2, y_test)"
      ],
      "metadata": {
        "colab": {
          "base_uri": "https://localhost:8080/",
          "height": 0
        },
        "id": "pv8OJ7gJT1fU",
        "outputId": "db92df6c-c36a-499f-e87e-e260913677b8"
      },
      "execution_count": 41,
      "outputs": [
        {
          "output_type": "stream",
          "name": "stdout",
          "text": [
            "32/32 [==============================] - 2s 12ms/step\n",
            "              precision    recall  f1-score   support\n",
            "\n",
            "           1       0.49      0.74      0.59       159\n",
            "           2       0.00      0.00      0.00        51\n",
            "           3       0.00      0.00      0.00        71\n",
            "           4       0.00      0.00      0.00       163\n",
            "           5       0.69      0.94      0.79       556\n",
            "\n",
            "    accuracy                           0.64      1000\n",
            "   macro avg       0.24      0.34      0.28      1000\n",
            "weighted avg       0.46      0.64      0.54      1000\n",
            "\n"
          ]
        },
        {
          "output_type": "stream",
          "name": "stderr",
          "text": [
            "/usr/local/lib/python3.7/dist-packages/sklearn/metrics/_classification.py:1318: UndefinedMetricWarning: Precision and F-score are ill-defined and being set to 0.0 in labels with no predicted samples. Use `zero_division` parameter to control this behavior.\n",
            "  _warn_prf(average, modifier, msg_start, len(result))\n",
            "/usr/local/lib/python3.7/dist-packages/sklearn/metrics/_classification.py:1318: UndefinedMetricWarning: Precision and F-score are ill-defined and being set to 0.0 in labels with no predicted samples. Use `zero_division` parameter to control this behavior.\n",
            "  _warn_prf(average, modifier, msg_start, len(result))\n",
            "/usr/local/lib/python3.7/dist-packages/sklearn/metrics/_classification.py:1318: UndefinedMetricWarning: Precision and F-score are ill-defined and being set to 0.0 in labels with no predicted samples. Use `zero_division` parameter to control this behavior.\n",
            "  _warn_prf(average, modifier, msg_start, len(result))\n"
          ]
        },
        {
          "output_type": "display_data",
          "data": {
            "text/plain": [
              "<Figure size 432x288 with 2 Axes>"
            ],
            "image/png": "[encoded data removed]"
          },
          "metadata": {
            "needs_background": "light"
          }
        }
      ]
    },
    {
      "cell_type": "markdown",
      "source": [
        "# Your code here\n",
        "\n",
        "___\n",
        "\n",
        "In all five models, we deduce from the learning curves that all the models over-fit. From the confusion matrixes, we see that the model are quite good in classifying reviews having 1 or 5 stars, this derives from the accuracy metric given to the models.\n",
        "\n",
        "Since models overfit we should try to decoplexify them by introducing batches or by using the residual strategy."
      ],
      "metadata": {
        "id": "IYgROTp8axPr"
      }
    },
    {
      "cell_type": "markdown",
      "metadata": {
        "id": "bY8ErAixTnaZ"
      },
      "source": [
        "# [BONUS] Improving our baseline"
      ]
    },
    {
      "cell_type": "markdown",
      "metadata": {
        "id": "mbcFYei5mASv"
      },
      "source": [
        "You can now explore ways to improve your model, either by reducing overfitting, exploring the best hyperparameters, tackle the issue of class imbalance...\n",
        "\n",
        "Any try at improving the model will be greatly appreciated."
      ]
    },
    {
      "cell_type": "code",
      "source": [
        "from tensorflow.keras import regularizers\n",
        "from keras.layers import BatchNormalization\n",
        "from tensorflow.keras.models import Model\n",
        "from tensorflow.keras.layers import Input, Dense\n",
        "from tensorflow.keras.callbacks import EarlyStopping\n"
      ],
      "metadata": {
        "id": "nHknQrhtd7M5"
      },
      "execution_count": 42,
      "outputs": []
    },
    {
      "cell_type": "code",
      "execution_count": 43,
      "metadata": {
        "id": "s80l4QJOt5bx",
        "colab": {
          "base_uri": "https://localhost:8080/"
        },
        "outputId": "ccf99ed9-6932-4210-e9d8-ec966409c214"
      },
      "outputs": [
        {
          "output_type": "stream",
          "name": "stdout",
          "text": [
            "Model: \"sequential_5\"\n",
            "_________________________________________________________________\n",
            " Layer (type)                Output Shape              Param #   \n",
            "=================================================================\n",
            " embedding_5 (Embedding)     (None, 200, 50)           654950    \n",
            "                                                                 \n",
            " gru_1 (GRU)                 (None, 4)                 672       \n",
            "                                                                 \n",
            " dropout (Dropout)           (None, 4)                 0         \n",
            "                                                                 \n",
            " dense_5 (Dense)             (None, 5)                 25        \n",
            "                                                                 \n",
            "=================================================================\n",
            "Total params: 655,647\n",
            "Trainable params: 655,647\n",
            "Non-trainable params: 0\n",
            "_________________________________________________________________\n",
            "None\n"
          ]
        }
      ],
      "source": [
        "# Your code here\n",
        "embedding_size=50\n",
        "model6=Sequential()\n",
        "model6.add(Embedding(vocabulary_size, embedding_size, input_length=max_words))\n",
        "\n",
        "nb_classes = 5\n",
        "\n",
        "model6.add(GRU(4))\n",
        "# model6.add(Dense(4, activation='relu'))\n",
        "model6.add(Dropout(0.2))\n",
        "model6.add(Dense(nb_classes, activation='softmax'))\n",
        "\n",
        "print(model6.summary())"
      ]
    },
    {
      "cell_type": "code",
      "source": [
        "model6.compile(loss=\"categorical_crossentropy\",\n",
        "                  optimizer='adam', metrics=['accuracy'])"
      ],
      "metadata": {
        "id": "2VU4Iqc_c6Sp"
      },
      "execution_count": 44,
      "outputs": []
    },
    {
      "cell_type": "code",
      "source": [
        "batch_size = 32\n",
        "num_epochs = 100\n",
        "\n",
        "es = tf.keras.callbacks.EarlyStopping(monitor='val_accuracy', mode='max', min_delta=0.0005, patience=10, restore_best_weights=True, verbose=1)\n",
        "# fit model\n",
        "history6 = model6.fit(\n",
        "    X_train_enc2, y_train_encoded, \n",
        "    validation_data=(X_val_enc2, y_val_encoded), \n",
        "    batch_size=batch_size,callbacks=[es], \n",
        "    epochs=num_epochs)"
      ],
      "metadata": {
        "colab": {
          "base_uri": "https://localhost:8080/"
        },
        "id": "9rGq0H5oc9mZ",
        "outputId": "b4267390-70c4-4e1d-f327-cdf6589c4b46"
      },
      "execution_count": 45,
      "outputs": [
        {
          "output_type": "stream",
          "name": "stdout",
          "text": [
            "Epoch 1/100\n",
            "157/157 [==============================] - 4s 13ms/step - loss: 1.4674 - accuracy: 0.5176 - val_loss: 1.2683 - val_accuracy: 0.5620\n",
            "Epoch 2/100\n",
            "157/157 [==============================] - 2s 10ms/step - loss: 1.2124 - accuracy: 0.5714 - val_loss: 1.1376 - val_accuracy: 0.6090\n",
            "Epoch 3/100\n",
            "157/157 [==============================] - 2s 10ms/step - loss: 1.0964 - accuracy: 0.6278 - val_loss: 1.0799 - val_accuracy: 0.6280\n",
            "Epoch 4/100\n",
            "157/157 [==============================] - 2s 10ms/step - loss: 1.0182 - accuracy: 0.6514 - val_loss: 1.0486 - val_accuracy: 0.6410\n",
            "Epoch 5/100\n",
            "157/157 [==============================] - 2s 10ms/step - loss: 0.9444 - accuracy: 0.6736 - val_loss: 1.0344 - val_accuracy: 0.6440\n",
            "Epoch 6/100\n",
            "157/157 [==============================] - 2s 10ms/step - loss: 0.8945 - accuracy: 0.6854 - val_loss: 1.0322 - val_accuracy: 0.6490\n",
            "Epoch 7/100\n",
            "157/157 [==============================] - 2s 10ms/step - loss: 0.8546 - accuracy: 0.6992 - val_loss: 1.0375 - val_accuracy: 0.6420\n",
            "Epoch 8/100\n",
            "157/157 [==============================] - 2s 10ms/step - loss: 0.8136 - accuracy: 0.7128 - val_loss: 1.0301 - val_accuracy: 0.6470\n",
            "Epoch 9/100\n",
            "157/157 [==============================] - 2s 10ms/step - loss: 0.7830 - accuracy: 0.7256 - val_loss: 1.0507 - val_accuracy: 0.6430\n",
            "Epoch 10/100\n",
            "157/157 [==============================] - 2s 13ms/step - loss: 0.7496 - accuracy: 0.7408 - val_loss: 1.0574 - val_accuracy: 0.6490\n",
            "Epoch 11/100\n",
            "157/157 [==============================] - 2s 12ms/step - loss: 0.7330 - accuracy: 0.7478 - val_loss: 1.0674 - val_accuracy: 0.6380\n",
            "Epoch 12/100\n",
            "157/157 [==============================] - 2s 10ms/step - loss: 0.6976 - accuracy: 0.7610 - val_loss: 1.0809 - val_accuracy: 0.6410\n",
            "Epoch 13/100\n",
            "157/157 [==============================] - 2s 10ms/step - loss: 0.6923 - accuracy: 0.7668 - val_loss: 1.1006 - val_accuracy: 0.6320\n",
            "Epoch 14/100\n",
            "157/157 [==============================] - 2s 10ms/step - loss: 0.6646 - accuracy: 0.7754 - val_loss: 1.1064 - val_accuracy: 0.6390\n",
            "Epoch 15/100\n",
            "157/157 [==============================] - 2s 12ms/step - loss: 0.6564 - accuracy: 0.7796 - val_loss: 1.1428 - val_accuracy: 0.6270\n",
            "Epoch 16/100\n",
            "156/157 [============================>.] - ETA: 0s - loss: 0.6306 - accuracy: 0.7899Restoring model weights from the end of the best epoch: 6.\n",
            "157/157 [==============================] - 2s 10ms/step - loss: 0.6304 - accuracy: 0.7900 - val_loss: 1.1515 - val_accuracy: 0.6390\n",
            "Epoch 16: early stopping\n"
          ]
        }
      ]
    },
    {
      "cell_type": "code",
      "source": [
        "myplot(history6)"
      ],
      "metadata": {
        "colab": {
          "base_uri": "https://localhost:8080/",
          "height": 350
        },
        "id": "o0gxx9jCdFHL",
        "outputId": "86a159c1-0dfd-4b62-8809-8dd21d52facb"
      },
      "execution_count": 46,
      "outputs": [
        {
          "output_type": "display_data",
          "data": {
            "text/plain": [
              "<Figure size 1080x360 with 2 Axes>"
            ],
            "image/png": "[encoded data removed]"
          },
          "metadata": {
            "needs_background": "light"
          }
        }
      ]
    },
    {
      "cell_type": "code",
      "source": [
        "evaluate_the_model(model6, X_test_enc2, y_test)"
      ],
      "metadata": {
        "colab": {
          "base_uri": "https://localhost:8080/",
          "height": 496
        },
        "id": "HoK24m0YdLJV",
        "outputId": "8a304dc3-d52b-4a8f-e3e4-0bbf944fcc5d"
      },
      "execution_count": 47,
      "outputs": [
        {
          "output_type": "stream",
          "name": "stdout",
          "text": [
            "32/32 [==============================] - 0s 5ms/step\n",
            "              precision    recall  f1-score   support\n",
            "\n",
            "           1       0.46      0.65      0.54       159\n",
            "           2       0.00      0.00      0.00        51\n",
            "           3       1.00      0.01      0.03        71\n",
            "           4       0.14      0.01      0.01       163\n",
            "           5       0.67      0.92      0.77       556\n",
            "\n",
            "    accuracy                           0.62      1000\n",
            "   macro avg       0.45      0.32      0.27      1000\n",
            "weighted avg       0.54      0.62      0.52      1000\n",
            "\n"
          ]
        },
        {
          "output_type": "display_data",
          "data": {
            "text/plain": [
              "<Figure size 432x288 with 2 Axes>"
            ],
            "image/png": "[encoded data removed]"
          },
          "metadata": {
            "needs_background": "light"
          }
        }
      ]
    },
    {
      "cell_type": "markdown",
      "source": [
        "The model I propose, is still overfitting, but it seems to have better precision. The goal of this section was to reduce overfitting. I have tried a lot of different combinations of RNN, using dropout, regulizers, batchNormalisers, but I have not found out one satisfying my expectation. With this last implementation, I reduce the number of units of the GRU layer, I add dropout and at the end I put a dense layer returning the most likely class among the five possible classes using the softmax activation."
      ],
      "metadata": {
        "id": "9QBepyClzWoq"
      }
    },
    {
      "cell_type": "code",
      "source": [],
      "metadata": {
        "id": "_O2c05IHgyo7"
      },
      "execution_count": 47,
      "outputs": []
    }
  ],
  "metadata": {
    "accelerator": "GPU",
    "colab": {
      "provenance": [],
      "collapsed_sections": [
        "lUgyFNxY6ITA",
        "ndapkqQqi-p9"
      ]
    },
    "gpuClass": "standard",
    "kernelspec": {
      "display_name": "Python 3 (ipykernel)",
      "language": "python",
      "name": "python3"
    },
    "language_info": {
      "codemirror_mode": {
        "name": "ipython",
        "version": 3
      },
      "file_extension": ".py",
      "mimetype": "text/x-python",
      "name": "python",
      "nbconvert_exporter": "python",
      "pygments_lexer": "ipython3",
      "version": "3.8.10"
    },
    "latex_envs": {
      "LaTeX_envs_menu_present": true,
      "autoclose": true,
      "autocomplete": true,
      "bibliofile": "biblio.bib",
      "cite_by": "apalike",
      "current_citInitial": 1,
      "eqLabelWithNumbers": true,
      "eqNumInitial": 1,
      "hotkeys": {
        "equation": "Ctrl-E",
        "itemize": "Ctrl-I"
      },
      "labels_anchors": false,
      "latex_user_defs": false,
      "report_style_numbering": false,
      "user_envs_cfg": false
    },
    "nbTranslate": {
      "displayLangs": [
        "*"
      ],
      "hotkey": "alt-t",
      "langInMainMenu": true,
      "sourceLang": "en",
      "targetLang": "fr",
      "useGoogleTranslate": true
    },
    "toc": {
      "base_numbering": 1,
      "nav_menu": {},
      "number_sections": true,
      "sideBar": true,
      "skip_h1_title": true,
      "title_cell": "Table of Contents",
      "title_sidebar": "Contents",
      "toc_cell": true,
      "toc_position": {},
      "toc_section_display": true,
      "toc_window_display": false
    }
  },
  "nbformat": 4,
  "nbformat_minor": 0
}