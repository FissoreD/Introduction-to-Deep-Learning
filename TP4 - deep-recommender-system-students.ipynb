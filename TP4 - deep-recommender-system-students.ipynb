{
  "cells": [
    {
      "cell_type": "markdown",
      "metadata": {
        "id": "e795a4a6"
      },
      "source": [
        "# Building a deep recommender systems\n",
        "\n",
        "**Main part**\n",
        "\n",
        "* The difference between implicit and explicit feedback for recommender systems\n",
        "* How to train-test split a dataset for training recommender systems without introducing biases and data leakages\n",
        "* How to create your own deep learning based recommender system using Keras\n",
        "* Metrics for evaluating recommender systems (hint: accuracy or RMSE is not appropriate!)"
      ]
    },
    {
      "cell_type": "markdown",
      "metadata": {
        "id": "d8dab56d"
      },
      "source": [
        "For the first part, we use here the MovieLens 100K Dataset. It contain 100,000 ratings from 1000 users on 1700 movies.\n",
        "\n",
        "* u.train / u.test part of the original u.data information\n",
        "    * The full u data set, 100000 ratings by 943 users on 1682 items.\n",
        "              Each user has rated at least 20 movies.  Users and items are\n",
        "              numbered consecutively from 1.  The data is randomly\n",
        "              ordered. This is a tab separated list of \n",
        "\t         user id | item id | rating | timestamp. \n",
        "              The time stamps are unix seconds since 1/1/1970 UTC   \n",
        "* u.info\n",
        "    * The number of users, items, and ratings in the u data set.\n",
        "* u.item\n",
        "    * Information about the items (movies); this is a tab separated\n",
        "              list of\n",
        "              movie id | movie title | release date | video release date |\n",
        "              IMDb URL | unknown | Action | Adventure | Animation |\n",
        "              Children's | Comedy | Crime | Documentary | Drama | Fantasy |\n",
        "              Film-Noir | Horror | Musical | Mystery | Romance | Sci-Fi |\n",
        "              Thriller | War | Western |\n",
        "              The last 19 fields are the genres, a 1 indicates the movie\n",
        "              is of that genre, a 0 indicates it is not; movies can be in\n",
        "              several genres at once.\n",
        "              The movie ids are the ones used in the u.data data set.\n",
        "* u.genre\n",
        "    * A list of the genres.\n",
        "* u.user\n",
        "    * Demographic information about the users; this is a tab\n",
        "              separated list of\n",
        "              user id | age | gender | occupation | zip code\n",
        "              The user ids are the ones used in the u.data data set."
      ]
    },
    {
      "cell_type": "code",
      "execution_count": 1,
      "metadata": {
        "ExecuteTime": {
          "end_time": "2021-11-15T14:46:19.112156Z",
          "start_time": "2021-11-15T14:46:19.072510Z"
        },
        "id": "ae4b756c"
      },
      "outputs": [
        {
          "data": {
            "text/plain": [
              "'ml-100k (2).zip'"
            ]
          },
          "execution_count": 1,
          "metadata": {},
          "output_type": "execute_result"
        }
      ],
      "source": [
        "#path = \"https://www.i3s.unice.fr/~riveill/dataset/dataset_movilens_100K/\"\n",
        "try:\n",
        "    import wget\n",
        "except:\n",
        "    !pip install wget\n",
        "    import wget\n",
        "wget.download('https://files.grouplens.org/datasets/movielens/ml-100k.zip')\n"
      ]
    },
    {
      "cell_type": "code",
      "execution_count": 2,
      "metadata": {},
      "outputs": [],
      "source": [
        "import zipfile\n",
        "\n",
        "with zipfile.ZipFile('./ml-100k.zip', 'r') as zip_ref:\n",
        "    zip_ref.extractall('.')"
      ]
    },
    {
      "cell_type": "markdown",
      "metadata": {
        "id": "e1448084"
      },
      "source": [
        "Before we build our model, it is important to understand the distinction between implicit and explicit feedback, and why modern recommender systems are built on implicit feedback.\n",
        "\n",
        "* **Explicit Feedback:** in the context of recommender systems, explicit feedback are direct and quantitative data collected from users.\n",
        "* **Implicit Feedback:** on the other hand, implicit feedback are collected indirectly from user interactions, and they act as a proxy for user preference. \n",
        "\n",
        "The advantage of implicit feedback is that it is abundant. Recommender systems built using implicit feedback allow recommendations to be adapted in real time, with each click and interaction.\n",
        "\n",
        "Today, online recommender systems are built using implicit feedback."
      ]
    },
    {
      "cell_type": "markdown",
      "metadata": {
        "id": "126e76d9"
      },
      "source": [
        "### Data preprocessing"
      ]
    },
    {
      "cell_type": "markdown",
      "metadata": {
        "id": "KzmpzGugpe5D"
      },
      "source": [
        "For fast training and testing your code, you can keep the first entries of the dataset only by tuning n_keep"
      ]
    },
    {
      "cell_type": "code",
      "execution_count": 3,
      "metadata": {
        "ExecuteTime": {
          "end_time": "2021-11-15T14:51:30.490043Z",
          "start_time": "2021-11-15T14:51:30.044708Z"
        },
        "colab": {
          "base_uri": "https://localhost:8080/",
          "height": 204
        },
        "executionInfo": {
          "elapsed": 485,
          "status": "ok",
          "timestamp": 1637156409795,
          "user": {
            "displayName": "Antoine Collin",
            "photoUrl": "https://lh3.googleusercontent.com/a/default-user=s64",
            "userId": "01107865217976062482"
          },
          "user_tz": -60
        },
        "id": "1d08bb8e",
        "outputId": "33989908-1321-4c50-b76d-6de8227efba3"
      },
      "outputs": [
        {
          "data": {
            "text/html": [
              "<div>\n",
              "<style scoped>\n",
              "    .dataframe tbody tr th:only-of-type {\n",
              "        vertical-align: middle;\n",
              "    }\n",
              "\n",
              "    .dataframe tbody tr th {\n",
              "        vertical-align: top;\n",
              "    }\n",
              "\n",
              "    .dataframe thead th {\n",
              "        text-align: right;\n",
              "    }\n",
              "</style>\n",
              "<table border=\"1\" class=\"dataframe\">\n",
              "  <thead>\n",
              "    <tr style=\"text-align: right;\">\n",
              "      <th></th>\n",
              "      <th>userId</th>\n",
              "      <th>movieId</th>\n",
              "      <th>rating</th>\n",
              "      <th>timestamp</th>\n",
              "    </tr>\n",
              "  </thead>\n",
              "  <tbody>\n",
              "    <tr>\n",
              "      <th>214</th>\n",
              "      <td>259</td>\n",
              "      <td>255</td>\n",
              "      <td>4</td>\n",
              "      <td>874724710</td>\n",
              "    </tr>\n",
              "    <tr>\n",
              "      <th>1766</th>\n",
              "      <td>259</td>\n",
              "      <td>772</td>\n",
              "      <td>4</td>\n",
              "      <td>874724882</td>\n",
              "    </tr>\n",
              "    <tr>\n",
              "      <th>159</th>\n",
              "      <td>259</td>\n",
              "      <td>117</td>\n",
              "      <td>4</td>\n",
              "      <td>874724988</td>\n",
              "    </tr>\n",
              "    <tr>\n",
              "      <th>4029</th>\n",
              "      <td>259</td>\n",
              "      <td>405</td>\n",
              "      <td>3</td>\n",
              "      <td>874725120</td>\n",
              "    </tr>\n",
              "    <tr>\n",
              "      <th>4334</th>\n",
              "      <td>259</td>\n",
              "      <td>176</td>\n",
              "      <td>4</td>\n",
              "      <td>874725386</td>\n",
              "    </tr>\n",
              "  </tbody>\n",
              "</table>\n",
              "</div>"
            ],
            "text/plain": [
              "      userId  movieId  rating  timestamp\n",
              "214      259      255       4  874724710\n",
              "1766     259      772       4  874724882\n",
              "159      259      117       4  874724988\n",
              "4029     259      405       3  874725120\n",
              "4334     259      176       4  874725386"
            ]
          },
          "execution_count": 3,
          "metadata": {},
          "output_type": "execute_result"
        }
      ],
      "source": [
        "# Load data\n",
        "import pandas as pd\n",
        "import numpy as np\n",
        "np.random.seed(123)\n",
        "\n",
        "n_keep = 10000\n",
        "\n",
        "path = './ml-100k/'\n",
        "ratings = pd.read_csv(path+'u.data', sep='\\t', header=None,\n",
        "                            names=['userId', 'movieId', 'rating', 'timestamp']).iloc[:n_keep,:]\n",
        "ratings = ratings.sort_values(['timestamp'], ascending=True)\n",
        "ratings.head()"
      ]
    },
    {
      "cell_type": "markdown",
      "metadata": {
        "id": "0b2fc6d4"
      },
      "source": [
        "### Data splitting\n",
        "\n",
        "Separating the dataset between train and test in a random fashion would not be fair, as we could potentially use a user's recent evaluations for training and previous evaluations. This introduces a data leakage with an anticipation bias, and the performance of the trained model would not be generalizable to real world performance.\n",
        "\n",
        "Therefore, we need to slice the train and test based on the timestamp\n"
      ]
    },
    {
      "cell_type": "code",
      "execution_count": 4,
      "metadata": {
        "ExecuteTime": {
          "end_time": "2021-11-15T14:53:18.015101Z",
          "start_time": "2021-11-15T14:53:17.980112Z"
        },
        "colab": {
          "base_uri": "https://localhost:8080/"
        },
        "executionInfo": {
          "elapsed": 363,
          "status": "ok",
          "timestamp": 1637156411788,
          "user": {
            "displayName": "Antoine Collin",
            "photoUrl": "https://lh3.googleusercontent.com/a/default-user=s64",
            "userId": "01107865217976062482"
          },
          "user_tz": -60
        },
        "id": "4f039788",
        "outputId": "32503619-5e5a-4dcb-e23f-766f32b1fcc1"
      },
      "outputs": [
        {
          "data": {
            "text/plain": [
              "True"
            ]
          },
          "execution_count": 4,
          "metadata": {},
          "output_type": "execute_result"
        }
      ],
      "source": [
        "# Split dataset\n",
        "train_ratings, test_ratings = np.split(ratings, [int(.67 *len(ratings))])\n",
        "\n",
        "max(train_ratings['timestamp']) <= min(test_ratings['timestamp'])"
      ]
    },
    {
      "cell_type": "code",
      "execution_count": 5,
      "metadata": {
        "ExecuteTime": {
          "end_time": "2021-11-15T14:54:21.214140Z",
          "start_time": "2021-11-15T14:54:21.181377Z"
        },
        "colab": {
          "base_uri": "https://localhost:8080/"
        },
        "executionInfo": {
          "elapsed": 5,
          "status": "ok",
          "timestamp": 1637156411788,
          "user": {
            "displayName": "Antoine Collin",
            "photoUrl": "https://lh3.googleusercontent.com/a/default-user=s64",
            "userId": "01107865217976062482"
          },
          "user_tz": -60
        },
        "id": "2822ab43",
        "outputId": "a8236d46-21d6-4f11-a317-c66c9fd146c0"
      },
      "outputs": [
        {
          "data": {
            "text/plain": [
              "(6700, 3300)"
            ]
          },
          "execution_count": 5,
          "metadata": {},
          "output_type": "execute_result"
        }
      ],
      "source": [
        "# drop columns that we no longer need\n",
        "train_ratings = train_ratings[['userId', 'movieId', 'rating']]\n",
        "test_ratings = test_ratings[['userId', 'movieId', 'rating']]\n",
        "\n",
        "len(train_ratings), len(test_ratings)"
      ]
    },
    {
      "cell_type": "markdown",
      "metadata": {
        "id": "1b4f7f3f"
      },
      "source": [
        "### Converting the dataset to an implicit feedback dataset\n",
        "\n",
        "As discussed earlier, we will train a recommender system using implicit feedback. However, the MovieLens dataset we use is based on explicit feedback. To convert this dataset to an implicit feedback dataset, we will simply binarize the ratings and convert them to '1' (i.e. a positive class). The value '1' means that the user has interacted with the element.\n",
        "\n",
        "It is important to note that using implicit feedback reframes the problem our recommender is trying to solve. Instead of trying to predict the ranking of movies using explicit feedback, we try to predict whether the user will interact (i.e., click/buy/watch) with each movie, with the goal of presenting users with the movies with the highest probability of interaction."
      ]
    },
    {
      "cell_type": "code",
      "execution_count": 6,
      "metadata": {
        "ExecuteTime": {
          "end_time": "2021-11-15T14:54:24.837530Z",
          "start_time": "2021-11-15T14:54:24.814668Z"
        },
        "colab": {
          "base_uri": "https://localhost:8080/",
          "height": 204
        },
        "executionInfo": {
          "elapsed": 288,
          "status": "ok",
          "timestamp": 1637156414030,
          "user": {
            "displayName": "Antoine Collin",
            "photoUrl": "https://lh3.googleusercontent.com/a/default-user=s64",
            "userId": "01107865217976062482"
          },
          "user_tz": -60
        },
        "id": "3aba6be6",
        "outputId": "856da4b7-9e11-42fe-abcb-47d8f015a750"
      },
      "outputs": [
        {
          "data": {
            "text/html": [
              "<div>\n",
              "<style scoped>\n",
              "    .dataframe tbody tr th:only-of-type {\n",
              "        vertical-align: middle;\n",
              "    }\n",
              "\n",
              "    .dataframe tbody tr th {\n",
              "        vertical-align: top;\n",
              "    }\n",
              "\n",
              "    .dataframe thead th {\n",
              "        text-align: right;\n",
              "    }\n",
              "</style>\n",
              "<table border=\"1\" class=\"dataframe\">\n",
              "  <thead>\n",
              "    <tr style=\"text-align: right;\">\n",
              "      <th></th>\n",
              "      <th>userId</th>\n",
              "      <th>movieId</th>\n",
              "      <th>rating</th>\n",
              "      <th>interaction</th>\n",
              "    </tr>\n",
              "  </thead>\n",
              "  <tbody>\n",
              "    <tr>\n",
              "      <th>214</th>\n",
              "      <td>259</td>\n",
              "      <td>255</td>\n",
              "      <td>4</td>\n",
              "      <td>1</td>\n",
              "    </tr>\n",
              "    <tr>\n",
              "      <th>1766</th>\n",
              "      <td>259</td>\n",
              "      <td>772</td>\n",
              "      <td>4</td>\n",
              "      <td>1</td>\n",
              "    </tr>\n",
              "    <tr>\n",
              "      <th>159</th>\n",
              "      <td>259</td>\n",
              "      <td>117</td>\n",
              "      <td>4</td>\n",
              "      <td>1</td>\n",
              "    </tr>\n",
              "    <tr>\n",
              "      <th>4029</th>\n",
              "      <td>259</td>\n",
              "      <td>405</td>\n",
              "      <td>3</td>\n",
              "      <td>1</td>\n",
              "    </tr>\n",
              "    <tr>\n",
              "      <th>4334</th>\n",
              "      <td>259</td>\n",
              "      <td>176</td>\n",
              "      <td>4</td>\n",
              "      <td>1</td>\n",
              "    </tr>\n",
              "  </tbody>\n",
              "</table>\n",
              "</div>"
            ],
            "text/plain": [
              "      userId  movieId  rating  interaction\n",
              "214      259      255       4            1\n",
              "1766     259      772       4            1\n",
              "159      259      117       4            1\n",
              "4029     259      405       3            1\n",
              "4334     259      176       4            1"
            ]
          },
          "execution_count": 6,
          "metadata": {},
          "output_type": "execute_result"
        }
      ],
      "source": [
        "train_ratings['interaction'] = 1\n",
        "train_ratings.head()"
      ]
    },
    {
      "cell_type": "markdown",
      "metadata": {
        "id": "10db6eac"
      },
      "source": [
        "However, we now have a problem. After binarizing our data set, we find that every sample in the data set now belongs to the positive class. However, we also need negative samples to train our models, to indicate the movies that the user did not interact with. We assume that these movies are the ones the user is not interested in - although this is a general assumption that may not be true, it works quite well in practice.\n",
        "\n",
        "The code below generates 4 negative samples for each row of data. In other words, the ratio of negative to positive samples is 4:1. This ratio is chosen arbitrarily but it works quite well in practice."
      ]
    },
    {
      "cell_type": "markdown",
      "metadata": {
        "id": "0CbBFNECq1_6"
      },
      "source": [
        "**[TO DO - Students]: Fill the gaps**"
      ]
    },
    {
      "cell_type": "code",
      "execution_count": 7,
      "metadata": {
        "ExecuteTime": {
          "end_time": "2021-11-15T14:54:35.152900Z",
          "start_time": "2021-11-15T14:54:33.537397Z"
        },
        "id": "8b936437"
      },
      "outputs": [
        {
          "name": "stdout",
          "output_type": "stream",
          "text": [
            "movies statistics:  1254\n"
          ]
        }
      ],
      "source": [
        "# Get a list of all movie IDs\n",
        "all_movieIds = ratings['movieId'].unique()\n",
        "print('movies statistics: ', len(all_movieIds))\n",
        "# Placeholders that will hold the training data\n",
        "users, items, labels = [], [], []\n",
        "\n",
        "# This is the set of items that each user has interaction with\n",
        "user_item_set = set(zip(train_ratings['userId'], train_ratings['movieId']))\n",
        "\n",
        "# 4:1 ratio of negative to positive samples\n",
        "num_negatives = 4\n",
        "\n",
        "for (u, i) in user_item_set:\n",
        "    users.append(u)\n",
        "    items.append(i)\n",
        "    labels.append(1) # items that the user has interacted with are positive\n",
        "    for _ in range(num_negatives):\n",
        "        # randomly select an item\n",
        "        negative_item = np.random.choice(all_movieIds) \n",
        "        # check that the user has not interacted with this item\n",
        "        while (u, negative_item) in user_item_set:\n",
        "            negative_item = np.random.choice(all_movieIds)\n",
        "        users.append(u)\n",
        "        items.append(negative_item)\n",
        "        labels.append(0) # items not interacted with are negative"
      ]
    },
    {
      "cell_type": "markdown",
      "metadata": {
        "id": "4dba8fba"
      },
      "source": [
        "## Build Neural Collaborative Filtering (NCF)\n",
        "\n",
        "As there are many deep learning based architectures for recommender systems, I propose here to use the framework proposed by [He et al, Neural Collaborative Filtering](https://arxiv.org/abs/1708.05031) which is simple enough to be implemented in an introductory context.\n",
        "\n",
        "In a \"collaborative\" approach, the user and the embedded elements are essential to the model. Here is a description of the architecture: ![architecture](https://miro.medium.com/max/4800/1*lYD7OP53iK_y4lt6XWjubQ.png)\n",
        "\n",
        "The inputs to the model are the one-hot encoded user and item vector for userId = 3 and movieId = 1. Because this is a positive sample (movie actually rated by the user), the true label (interacted) is 1.\n",
        "The user input vector and item input vector are fed to the user embedding and item embedding respectively, which results in a smaller, denser user and item vectors.\n",
        "\n",
        "The embedded user and item vectors are concatenated before passing through a series of fully connected layers, which maps the concatenated embeddings into a prediction vector as output. At the output layer, we apply a Sigmoid function to obtain the most probable class. In the example above, the most probable class is 1 (positive class), since 0.8 &gt; 0.2.\n",
        "\n",
        "This [tutorial](https://machinelearningmastery.com/use-word-embedding-layers-deep-learning-keras/) shows you how to make an embedding with Keras "
      ]
    },
    {
      "cell_type": "markdown",
      "metadata": {
        "id": "a9FAUzyOrU4h"
      },
      "source": [
        "**[TO DO - Students]: Fill the gaps**"
      ]
    },
    {
      "cell_type": "code",
      "execution_count": 8,
      "metadata": {
        "ExecuteTime": {
          "end_time": "2021-11-15T14:55:18.213938Z",
          "start_time": "2021-11-15T14:54:45.358334Z"
        },
        "id": "031d1292"
      },
      "outputs": [],
      "source": [
        "from tensorflow.keras.models import Model\n",
        "from keras.layers import Dense, Embedding, Concatenate, Input, Flatten\n",
        "\n",
        "def NCF(num_users, num_items):\n",
        "    # user_id embedding\n",
        "    users_input = Input(shape=(1,))\n",
        "    x_users = Embedding(input_dim=num_users, output_dim=8)(users_input)\n",
        "    x_users = Flatten()(x_users)\n",
        "\n",
        "    # item_id embedding\n",
        "    items_input = Input(shape=(1,))\n",
        "    x_items = Embedding(input_dim=num_items, output_dim=8)(items_input)\n",
        "    x_items = Flatten()(x_items)\n",
        "    \n",
        "    # concatenation\n",
        "    x = Concatenate(axis=1)([x_users, x_items])\n",
        "    \n",
        "    # output layer\n",
        "    output = Dense(1, activation=\"sigmoid\")(x)\n",
        "    \n",
        "    # Build the model\n",
        "    model = Model(inputs=[users_input, items_input], outputs=output)\n",
        "\n",
        "    # compile the model\n",
        "    model.compile(optimizer='adam',\n",
        "                  loss=\"binary_crossentropy\", metrics=['accuracy'])\n",
        "\n",
        "    # summarize the model\n",
        "    print(model.summary())\n",
        "    \n",
        "    return model"
      ]
    },
    {
      "cell_type": "code",
      "execution_count": 9,
      "metadata": {
        "ExecuteTime": {
          "end_time": "2021-11-15T14:55:18.396436Z",
          "start_time": "2021-11-15T14:55:18.220674Z"
        },
        "colab": {
          "base_uri": "https://localhost:8080/"
        },
        "executionInfo": {
          "elapsed": 434,
          "status": "ok",
          "timestamp": 1637156418046,
          "user": {
            "displayName": "Antoine Collin",
            "photoUrl": "https://lh3.googleusercontent.com/a/default-user=s64",
            "userId": "01107865217976062482"
          },
          "user_tz": -60
        },
        "id": "9904b4dc",
        "outputId": "5cf066e1-6281-4cb3-8bea-4bdc73b498f1"
      },
      "outputs": [
        {
          "name": "stdout",
          "output_type": "stream",
          "text": [
            "Model: \"model\"\n",
            "__________________________________________________________________________________________________\n",
            " Layer (type)                   Output Shape         Param #     Connected to                     \n",
            "==================================================================================================\n",
            " input_1 (InputLayer)           [(None, 1)]          0           []                               \n",
            "                                                                                                  \n",
            " input_2 (InputLayer)           [(None, 1)]          0           []                               \n",
            "                                                                                                  \n",
            " embedding (Embedding)          (None, 1, 8)         3120        ['input_1[0][0]']                \n",
            "                                                                                                  \n",
            " embedding_1 (Embedding)        (None, 1, 8)         12240       ['input_2[0][0]']                \n",
            "                                                                                                  \n",
            " flatten (Flatten)              (None, 8)            0           ['embedding[0][0]']              \n",
            "                                                                                                  \n",
            " flatten_1 (Flatten)            (None, 8)            0           ['embedding_1[0][0]']            \n",
            "                                                                                                  \n",
            " concatenate (Concatenate)      (None, 16)           0           ['flatten[0][0]',                \n",
            "                                                                  'flatten_1[0][0]']              \n",
            "                                                                                                  \n",
            " dense (Dense)                  (None, 1)            17          ['concatenate[0][0]']            \n",
            "                                                                                                  \n",
            "==================================================================================================\n",
            "Total params: 15,377\n",
            "Trainable params: 15,377\n",
            "Non-trainable params: 0\n",
            "__________________________________________________________________________________________________\n",
            "None\n"
          ]
        }
      ],
      "source": [
        "num_users = max(np.unique(users))+1\n",
        "num_items = max(np.unique(items))+1\n",
        "\n",
        "model = NCF(num_users, num_items)"
      ]
    },
    {
      "cell_type": "code",
      "execution_count": 10,
      "metadata": {
        "ExecuteTime": {
          "end_time": "2021-11-15T14:55:18.516821Z",
          "start_time": "2021-11-15T14:55:18.398981Z"
        },
        "id": "daa258d3"
      },
      "outputs": [
        {
          "name": "stdout",
          "output_type": "stream",
          "text": [
            "Model: \"model_1\"\n",
            "__________________________________________________________________________________________________\n",
            " Layer (type)                   Output Shape         Param #     Connected to                     \n",
            "==================================================================================================\n",
            " input_3 (InputLayer)           [(None, 1)]          0           []                               \n",
            "                                                                                                  \n",
            " input_4 (InputLayer)           [(None, 1)]          0           []                               \n",
            "                                                                                                  \n",
            " embedding_2 (Embedding)        (None, 1, 8)         3120        ['input_3[0][0]']                \n",
            "                                                                                                  \n",
            " embedding_3 (Embedding)        (None, 1, 8)         12240       ['input_4[0][0]']                \n",
            "                                                                                                  \n",
            " flatten_2 (Flatten)            (None, 8)            0           ['embedding_2[0][0]']            \n",
            "                                                                                                  \n",
            " flatten_3 (Flatten)            (None, 8)            0           ['embedding_3[0][0]']            \n",
            "                                                                                                  \n",
            " concatenate_1 (Concatenate)    (None, 16)           0           ['flatten_2[0][0]',              \n",
            "                                                                  'flatten_3[0][0]']              \n",
            "                                                                                                  \n",
            " dense_1 (Dense)                (None, 1)            17          ['concatenate_1[0][0]']          \n",
            "                                                                                                  \n",
            "==================================================================================================\n",
            "Total params: 15,377\n",
            "Trainable params: 15,377\n",
            "Non-trainable params: 0\n",
            "__________________________________________________________________________________________________\n",
            "None\n"
          ]
        }
      ],
      "source": [
        "model = NCF(num_users, num_items)"
      ]
    },
    {
      "cell_type": "code",
      "execution_count": 11,
      "metadata": {
        "ExecuteTime": {
          "end_time": "2021-11-15T14:58:24.656866Z",
          "start_time": "2021-11-15T14:55:18.523697Z"
        },
        "colab": {
          "base_uri": "https://localhost:8080/"
        },
        "executionInfo": {
          "elapsed": 1110177,
          "status": "ok",
          "timestamp": 1637157534911,
          "user": {
            "displayName": "Antoine Collin",
            "photoUrl": "https://lh3.googleusercontent.com/a/default-user=s64",
            "userId": "01107865217976062482"
          },
          "user_tz": -60
        },
        "id": "7b6d218e",
        "outputId": "0b7d54e6-b189-4e40-ad0a-c2cb504252dd"
      },
      "outputs": [
        {
          "name": "stdout",
          "output_type": "stream",
          "text": [
            "Epoch 1/100\n",
            "838/838 [==============================] - 3s 2ms/step - loss: 0.5333 - accuracy: 0.7921 - val_loss: 0.4566 - val_accuracy: 0.8030\n",
            "Epoch 2/100\n",
            "838/838 [==============================] - 2s 2ms/step - loss: 0.4327 - accuracy: 0.8088 - val_loss: 0.4428 - val_accuracy: 0.8037\n",
            "Epoch 3/100\n",
            "838/838 [==============================] - 2s 2ms/step - loss: 0.4181 - accuracy: 0.8104 - val_loss: 0.4462 - val_accuracy: 0.7991\n",
            "Epoch 4/100\n",
            "838/838 [==============================] - 2s 3ms/step - loss: 0.4141 - accuracy: 0.8104 - val_loss: 0.4514 - val_accuracy: 0.7979\n",
            "Epoch 5/100\n",
            "838/838 [==============================] - 3s 3ms/step - loss: 0.4123 - accuracy: 0.8100 - val_loss: 0.4553 - val_accuracy: 0.8012\n",
            "Epoch 6/100\n",
            "838/838 [==============================] - 2s 2ms/step - loss: 0.4113 - accuracy: 0.8090 - val_loss: 0.4581 - val_accuracy: 0.8015\n",
            "Epoch 7/100\n",
            "838/838 [==============================] - 2s 2ms/step - loss: 0.4104 - accuracy: 0.8098 - val_loss: 0.4615 - val_accuracy: 0.7997\n",
            "Epoch 8/100\n",
            "838/838 [==============================] - 3s 3ms/step - loss: 0.4097 - accuracy: 0.8107 - val_loss: 0.4654 - val_accuracy: 0.7994\n",
            "Epoch 9/100\n",
            "838/838 [==============================] - 2s 3ms/step - loss: 0.4094 - accuracy: 0.8104 - val_loss: 0.4681 - val_accuracy: 0.7999\n",
            "Epoch 10/100\n",
            "838/838 [==============================] - 2s 3ms/step - loss: 0.4089 - accuracy: 0.8109 - val_loss: 0.4713 - val_accuracy: 0.7997\n",
            "Epoch 11/100\n",
            "838/838 [==============================] - 2s 2ms/step - loss: 0.4085 - accuracy: 0.8110 - val_loss: 0.4733 - val_accuracy: 0.8009\n",
            "Epoch 12/100\n",
            "811/838 [============================>.] - ETA: 0s - loss: 0.4076 - accuracy: 0.8124Restoring model weights from the end of the best epoch: 2.\n",
            "838/838 [==============================] - 1s 2ms/step - loss: 0.4082 - accuracy: 0.8119 - val_loss: 0.4757 - val_accuracy: 0.8006\n",
            "Epoch 12: early stopping\n"
          ]
        }
      ],
      "source": [
        "# Model fitting\n",
        "from tensorflow.keras.callbacks import EarlyStopping, ModelCheckpoint\n",
        "\n",
        "# simple early stopping\n",
        "es = EarlyStopping(monitor='val_loss', patience=10, mode='min', restore_best_weights=True, verbose=1)\n",
        "mc = ModelCheckpoint(\"best-model\", monitor=\"val_loss\", save_best_only=True, save_weights_only=True)\n",
        "\n",
        "#model.fit([np.array(users), np.array(items)], np.array(labels), epochs=2, verbose=1)\n",
        "history = model.fit([np.array(users), np.array(items)], np.array(labels).reshape(-1),\n",
        "                    validation_split=0.2, epochs=100, verbose=1, callbacks=[es, mc])"
      ]
    },
    {
      "cell_type": "code",
      "execution_count": 12,
      "metadata": {
        "ExecuteTime": {
          "end_time": "2021-11-15T14:58:28.244546Z",
          "start_time": "2021-11-15T14:58:24.661922Z"
        },
        "colab": {
          "base_uri": "https://localhost:8080/",
          "height": 350
        },
        "executionInfo": {
          "elapsed": 53544,
          "status": "ok",
          "timestamp": 1637157588440,
          "user": {
            "displayName": "Antoine Collin",
            "photoUrl": "https://lh3.googleusercontent.com/a/default-user=s64",
            "userId": "01107865217976062482"
          },
          "user_tz": -60
        },
        "id": "55ee9f05",
        "outputId": "4e805bbe-ae83-4095-f4dc-af66b6150382"
      },
      "outputs": [
        {
          "data": {
            "image/png": "[encoded data removed]",
            "text/plain": [
              "<Figure size 1500x500 with 2 Axes>"
            ]
          },
          "metadata": {},
          "output_type": "display_data"
        }
      ],
      "source": [
        "import matplotlib.pyplot as plt\n",
        "\n",
        "fig, axs = plt.subplots(1, 2, figsize=(15,5))\n",
        "\n",
        "# summarize history for accuracy\n",
        "axs[0].plot(history.history['accuracy'])\n",
        "axs[0].plot(history.history['val_accuracy'])\n",
        "axs[0].set_title('model accuracy')\n",
        "axs[0].set_ylabel('accuracy')\n",
        "axs[0].set_xlabel('epoch')\n",
        "axs[0].legend(['train', 'val'], loc='upper left')\n",
        "\n",
        "# summarize history for loss\n",
        "axs[1].plot(history.history['loss'])\n",
        "axs[1].plot(history.history['val_loss'])\n",
        "axs[1].set_title('model loss')\n",
        "axs[1].set_ylabel('loss')\n",
        "axs[1].set_xlabel('epoch')\n",
        "axs[1].legend(['train', 'val'], loc='upper left')\n",
        "\n",
        "plt.show()"
      ]
    },
    {
      "cell_type": "markdown",
      "metadata": {
        "id": "a7183d5a"
      },
      "source": [
        "### Evaluating our Recommender System\n",
        "Now that we have trained out model, we are ready to evaluate it using the test data. In traditional Machine Learning projects, we evaluate our models using metrics such as Accuracy (for classification problems) and RMSE (for regression problems). However, such metrics are too simplistic for evaluating recommender systems.\n",
        "\n",
        "To design a good metric for evaluating recommender systems, we need to first understand how modern recommender systems are used.\n",
        "\n",
        "Amazon, Netflix and others uses a list of recommendations. The key here is that we don’t need the user to interact with every single item in the list of recommendations. Instead, we just need the user to interact with at least one item on the list — as long as the user does that, the recommendations have worked.\n",
        "\n",
        "To simulate this, let’s run the following evaluation protocol to generate a list of top 10 recommended items for each user.\n",
        "\n",
        "* For each user, randomly select 99 items that the user has not interacted with.\n",
        "* Combine these 99 items with the test item (the actual item that the user last interacted with). We now have 100 items.\n",
        "* Run the model on these 100 items, and rank them according to their predicted probabilities.\n",
        "* Select the top 10 items from the list of 100 items. If the test item is present within the top 10 items, then we say that this is a hit.\n",
        "* Repeat the process for all users. The Hit Ratio is then the average hits.\n",
        "\n",
        "This evaluation protocol is known as **Hit Ratio @ 10**, and it is commonly used to evaluate recommender systems.\n"
      ]
    },
    {
      "cell_type": "code",
      "execution_count": 13,
      "metadata": {
        "colab": {
          "base_uri": "https://localhost:8080/",
          "height": 419
        },
        "executionInfo": {
          "elapsed": 424,
          "status": "ok",
          "timestamp": 1637164761620,
          "user": {
            "displayName": "Antoine Collin",
            "photoUrl": "https://lh3.googleusercontent.com/a/default-user=s64",
            "userId": "01107865217976062482"
          },
          "user_tz": -60
        },
        "id": "NSv5Z5xkNWVp",
        "outputId": "06432379-6a42-4308-86a3-e74f75a5a7a3"
      },
      "outputs": [
        {
          "data": {
            "text/html": [
              "<div>\n",
              "<style scoped>\n",
              "    .dataframe tbody tr th:only-of-type {\n",
              "        vertical-align: middle;\n",
              "    }\n",
              "\n",
              "    .dataframe tbody tr th {\n",
              "        vertical-align: top;\n",
              "    }\n",
              "\n",
              "    .dataframe thead th {\n",
              "        text-align: right;\n",
              "    }\n",
              "</style>\n",
              "<table border=\"1\" class=\"dataframe\">\n",
              "  <thead>\n",
              "    <tr style=\"text-align: right;\">\n",
              "      <th></th>\n",
              "      <th>userId</th>\n",
              "      <th>movieId</th>\n",
              "      <th>rating</th>\n",
              "    </tr>\n",
              "  </thead>\n",
              "  <tbody>\n",
              "    <tr>\n",
              "      <th>7169</th>\n",
              "      <td>116</td>\n",
              "      <td>180</td>\n",
              "      <td>5</td>\n",
              "    </tr>\n",
              "    <tr>\n",
              "      <th>1809</th>\n",
              "      <td>116</td>\n",
              "      <td>271</td>\n",
              "      <td>4</td>\n",
              "    </tr>\n",
              "    <tr>\n",
              "      <th>4349</th>\n",
              "      <td>116</td>\n",
              "      <td>187</td>\n",
              "      <td>5</td>\n",
              "    </tr>\n",
              "    <tr>\n",
              "      <th>1789</th>\n",
              "      <td>305</td>\n",
              "      <td>50</td>\n",
              "      <td>5</td>\n",
              "    </tr>\n",
              "    <tr>\n",
              "      <th>4629</th>\n",
              "      <td>305</td>\n",
              "      <td>257</td>\n",
              "      <td>2</td>\n",
              "    </tr>\n",
              "    <tr>\n",
              "      <th>...</th>\n",
              "      <td>...</td>\n",
              "      <td>...</td>\n",
              "      <td>...</td>\n",
              "    </tr>\n",
              "    <tr>\n",
              "      <th>8883</th>\n",
              "      <td>189</td>\n",
              "      <td>607</td>\n",
              "      <td>4</td>\n",
              "    </tr>\n",
              "    <tr>\n",
              "      <th>500</th>\n",
              "      <td>189</td>\n",
              "      <td>526</td>\n",
              "      <td>4</td>\n",
              "    </tr>\n",
              "    <tr>\n",
              "      <th>2988</th>\n",
              "      <td>189</td>\n",
              "      <td>30</td>\n",
              "      <td>4</td>\n",
              "    </tr>\n",
              "    <tr>\n",
              "      <th>4659</th>\n",
              "      <td>189</td>\n",
              "      <td>1021</td>\n",
              "      <td>5</td>\n",
              "    </tr>\n",
              "    <tr>\n",
              "      <th>70</th>\n",
              "      <td>189</td>\n",
              "      <td>512</td>\n",
              "      <td>4</td>\n",
              "    </tr>\n",
              "  </tbody>\n",
              "</table>\n",
              "<p>3300 rows × 3 columns</p>\n",
              "</div>"
            ],
            "text/plain": [
              "      userId  movieId  rating\n",
              "7169     116      180       5\n",
              "1809     116      271       4\n",
              "4349     116      187       5\n",
              "1789     305       50       5\n",
              "4629     305      257       2\n",
              "...      ...      ...     ...\n",
              "8883     189      607       4\n",
              "500      189      526       4\n",
              "2988     189       30       4\n",
              "4659     189     1021       5\n",
              "70       189      512       4\n",
              "\n",
              "[3300 rows x 3 columns]"
            ]
          },
          "execution_count": 13,
          "metadata": {},
          "output_type": "execute_result"
        }
      ],
      "source": [
        "test_ratings"
      ]
    },
    {
      "cell_type": "markdown",
      "metadata": {
        "id": "dNE50iVXsPcl"
      },
      "source": [
        "[TO DO - Students]: Fill the gaps"
      ]
    },
    {
      "cell_type": "code",
      "execution_count": 14,
      "metadata": {
        "ExecuteTime": {
          "start_time": "2021-11-15T14:55:12.142Z"
        },
        "id": "382eb6fa"
      },
      "outputs": [],
      "source": [
        "def h10ratio(test_ratings, model):\n",
        "    # User-item pairs for testing\n",
        "    test_user_item_set = set(zip(test_ratings['userId'], test_ratings['movieId']))[:1000]\n",
        "\n",
        "    # Dict of all items that are interacted with by each user\n",
        "    user_interacted_items = ratings.groupby('userId')[\"movieId\"].apply(list).to_dict()\n",
        "\n",
        "    hits = []\n",
        "    for (u,i) in test_user_item_set:\n",
        "        interacted_items = user_interacted_items[u]\n",
        "        not_interacted_items = set(all_movieIds) - set(interacted_items)\n",
        "        selected_not_interacted = list(np.random.choice(list(not_interacted_items), 99))\n",
        "        test_items = selected_not_interacted + [i]\n",
        "        predicted_labels = model.predict([np.array([u]*100), np.array(test_items)]).reshape(-1)\n",
        "        top10_items = [test_items[i] for i in np.argsort(predicted_labels)[-10:].tolist()]\n",
        "        \n",
        "        if i in top10_items:\n",
        "            hits.append(1)\n",
        "        else:\n",
        "            hits.append(0)\n",
        "    h10r_score = np.average(hits)\n",
        "    print(\"The Hit Ratio @ 10 is {:.2f}\".format(h10r_score))\n",
        "    return h10r"
      ]
    },
    {
      "cell_type": "markdown",
      "metadata": {
        "id": "2481510f"
      },
      "source": [
        "## Your work"
      ]
    },
    {
      "cell_type": "markdown",
      "metadata": {
        "id": "1008c2cb"
      },
      "source": [
        "For the lab, we use movies reviews provided by the MovieLens 20M dataset, a popular movie ratings dataset containing 20 Million movie reviews collected from 1995 to 2015.\n",
        "\n",
        "* Use only the 100 K first rating for training\n",
        "* the 10 K following rating for validation\n",
        "* the 20 K following ratin for testing (evaluation)"
      ]
    },
    {
      "cell_type": "markdown",
      "metadata": {
        "id": "6186a785"
      },
      "source": [
        "### Step 1 : Hyperparameters search"
      ]
    },
    {
      "cell_type": "markdown",
      "metadata": {
        "id": "erLnqTFHtKQa"
      },
      "source": [
        "**[TODO - Students] using the keras-tuner module, explore the hyperparameter space to optimize the validation loss**"
      ]
    },
    {
      "cell_type": "code",
      "execution_count": 15,
      "id": "6aa93bd2",
      "metadata": {},
      "outputs": [
        {
          "name": "stdout",
          "output_type": "stream",
          "text": [
            "Requirement already satisfied: keras-tuner in c:\\users\\davidef\\appdata\\local\\programs\\python\\python310\\lib\\site-packages (1.1.3)\n",
            "Requirement already satisfied: numpy in c:\\users\\davidef\\appdata\\local\\programs\\python\\python310\\lib\\site-packages (from keras-tuner) (1.23.3)\n",
            "Requirement already satisfied: kt-legacy in c:\\users\\davidef\\appdata\\local\\programs\\python\\python310\\lib\\site-packages (from keras-tuner) (1.0.4)\n",
            "Requirement already satisfied: ipython in c:\\users\\davidef\\appdata\\local\\programs\\python\\python310\\lib\\site-packages (from keras-tuner) (8.5.0)\n",
            "Requirement already satisfied: tensorboard in c:\\users\\davidef\\appdata\\local\\programs\\python\\python310\\lib\\site-packages (from keras-tuner) (2.10.1)\n",
            "Requirement already satisfied: requests in c:\\users\\davidef\\appdata\\local\\programs\\python\\python310\\lib\\site-packages (from keras-tuner) (2.28.1)\n",
            "Requirement already satisfied: packaging in c:\\users\\davidef\\appdata\\local\\programs\\python\\python310\\lib\\site-packages (from keras-tuner) (21.3)\n",
            "Requirement already satisfied: stack-data in c:\\users\\davidef\\appdata\\local\\programs\\python\\python310\\lib\\site-packages (from ipython->keras-tuner) (0.5.1)\n",
            "Requirement already satisfied: matplotlib-inline in c:\\users\\davidef\\appdata\\local\\programs\\python\\python310\\lib\\site-packages (from ipython->keras-tuner) (0.1.6)\n",
            "Requirement already satisfied: decorator in c:\\users\\davidef\\appdata\\local\\programs\\python\\python310\\lib\\site-packages (from ipython->keras-tuner) (5.1.1)\n",
            "Requirement already satisfied: traitlets>=5 in c:\\users\\davidef\\appdata\\local\\programs\\python\\python310\\lib\\site-packages (from ipython->keras-tuner) (5.4.0)\n",
            "Requirement already satisfied: prompt-toolkit<3.1.0,>3.0.1 in c:\\users\\davidef\\appdata\\local\\programs\\python\\python310\\lib\\site-packages (from ipython->keras-tuner) (3.0.31)\n",
            "Requirement already satisfied: pygments>=2.4.0 in c:\\users\\davidef\\appdata\\local\\programs\\python\\python310\\lib\\site-packages (from ipython->keras-tuner) (2.13.0)\n",
            "Requirement already satisfied: backcall in c:\\users\\davidef\\appdata\\local\\programs\\python\\python310\\lib\\site-packages (from ipython->keras-tuner) (0.2.0)\n",
            "Requirement already satisfied: colorama in c:\\users\\davidef\\appdata\\local\\programs\\python\\python310\\lib\\site-packages (from ipython->keras-tuner) (0.4.5)\n",
            "Requirement already satisfied: pickleshare in c:\\users\\davidef\\appdata\\local\\programs\\python\\python310\\lib\\site-packages (from ipython->keras-tuner) (0.7.5)\n",
            "Requirement already satisfied: jedi>=0.16 in c:\\users\\davidef\\appdata\\local\\programs\\python\\python310\\lib\\site-packages (from ipython->keras-tuner) (0.18.1)\n",
            "Requirement already satisfied: pyparsing!=3.0.5,>=2.0.2 in c:\\users\\davidef\\appdata\\local\\programs\\python\\python310\\lib\\site-packages (from packaging->keras-tuner) (3.0.9)\n",
            "Requirement already satisfied: idna<4,>=2.5 in c:\\users\\davidef\\appdata\\local\\programs\\python\\python310\\lib\\site-packages (from requests->keras-tuner) (3.4)\n",
            "Requirement already satisfied: charset-normalizer<3,>=2 in c:\\users\\davidef\\appdata\\local\\programs\\python\\python310\\lib\\site-packages (from requests->keras-tuner) (2.1.1)\n",
            "Requirement already satisfied: urllib3<1.27,>=1.21.1 in c:\\users\\davidef\\appdata\\local\\programs\\python\\python310\\lib\\site-packages (from requests->keras-tuner) (1.26.12)\n",
            "Requirement already satisfied: certifi>=2017.4.17 in c:\\users\\davidef\\appdata\\local\\programs\\python\\python310\\lib\\site-packages (from requests->keras-tuner) (2022.9.24)\n",
            "Requirement already satisfied: markdown>=2.6.8 in c:\\users\\davidef\\appdata\\local\\programs\\python\\python310\\lib\\site-packages (from tensorboard->keras-tuner) (3.4.1)\n",
            "Requirement already satisfied: tensorboard-plugin-wit>=1.6.0 in c:\\users\\davidef\\appdata\\local\\programs\\python\\python310\\lib\\site-packages (from tensorboard->keras-tuner) (1.8.1)\n",
            "Requirement already satisfied: absl-py>=0.4 in c:\\users\\davidef\\appdata\\local\\programs\\python\\python310\\lib\\site-packages (from tensorboard->keras-tuner) (1.2.0)\n",
            "Requirement already satisfied: protobuf<3.20,>=3.9.2 in c:\\users\\davidef\\appdata\\local\\programs\\python\\python310\\lib\\site-packages (from tensorboard->keras-tuner) (3.19.6)\n",
            "Requirement already satisfied: tensorboard-data-server<0.7.0,>=0.6.0 in c:\\users\\davidef\\appdata\\local\\programs\\python\\python310\\lib\\site-packages (from tensorboard->keras-tuner) (0.6.1)\n",
            "Requirement already satisfied: google-auth<3,>=1.6.3 in c:\\users\\davidef\\appdata\\local\\programs\\python\\python310\\lib\\site-packages (from tensorboard->keras-tuner) (2.12.0)\n",
            "Requirement already satisfied: setuptools>=41.0.0 in c:\\users\\davidef\\appdata\\local\\programs\\python\\python310\\lib\\site-packages (from tensorboard->keras-tuner) (63.2.0)\n",
            "Requirement already satisfied: werkzeug>=1.0.1 in c:\\users\\davidef\\appdata\\local\\programs\\python\\python310\\lib\\site-packages (from tensorboard->keras-tuner) (2.2.2)\n",
            "Requirement already satisfied: grpcio>=1.24.3 in c:\\users\\davidef\\appdata\\local\\programs\\python\\python310\\lib\\site-packages (from tensorboard->keras-tuner) (1.49.1)\n",
            "Requirement already satisfied: wheel>=0.26 in c:\\users\\davidef\\appdata\\local\\programs\\python\\python310\\lib\\site-packages (from tensorboard->keras-tuner) (0.37.1)\n",
            "Requirement already satisfied: google-auth-oauthlib<0.5,>=0.4.1 in c:\\users\\davidef\\appdata\\local\\programs\\python\\python310\\lib\\site-packages (from tensorboard->keras-tuner) (0.4.6)\n",
            "Requirement already satisfied: cachetools<6.0,>=2.0.0 in c:\\users\\davidef\\appdata\\local\\programs\\python\\python310\\lib\\site-packages (from google-auth<3,>=1.6.3->tensorboard->keras-tuner) (5.2.0)\n",
            "Requirement already satisfied: rsa<5,>=3.1.4 in c:\\users\\davidef\\appdata\\local\\programs\\python\\python310\\lib\\site-packages (from google-auth<3,>=1.6.3->tensorboard->keras-tuner) (4.9)\n",
            "Requirement already satisfied: six>=1.9.0 in c:\\users\\davidef\\appdata\\local\\programs\\python\\python310\\lib\\site-packages (from google-auth<3,>=1.6.3->tensorboard->keras-tuner) (1.16.0)\n",
            "Requirement already satisfied: pyasn1-modules>=0.2.1 in c:\\users\\davidef\\appdata\\local\\programs\\python\\python310\\lib\\site-packages (from google-auth<3,>=1.6.3->tensorboard->keras-tuner) (0.2.8)\n",
            "Requirement already satisfied: requests-oauthlib>=0.7.0 in c:\\users\\davidef\\appdata\\local\\programs\\python\\python310\\lib\\site-packages (from google-auth-oauthlib<0.5,>=0.4.1->tensorboard->keras-tuner) (1.3.1)\n",
            "Requirement already satisfied: parso<0.9.0,>=0.8.0 in c:\\users\\davidef\\appdata\\local\\programs\\python\\python310\\lib\\site-packages (from jedi>=0.16->ipython->keras-tuner) (0.8.3)\n",
            "Requirement already satisfied: wcwidth in c:\\users\\davidef\\appdata\\local\\programs\\python\\python310\\lib\\site-packages (from prompt-toolkit<3.1.0,>3.0.1->ipython->keras-tuner) (0.2.5)\n",
            "Requirement already satisfied: MarkupSafe>=2.1.1 in c:\\users\\davidef\\appdata\\local\\programs\\python\\python310\\lib\\site-packages (from werkzeug>=1.0.1->tensorboard->keras-tuner) (2.1.1)\n",
            "Requirement already satisfied: pure-eval in c:\\users\\davidef\\appdata\\local\\programs\\python\\python310\\lib\\site-packages (from stack-data->ipython->keras-tuner) (0.2.2)\n",
            "Requirement already satisfied: executing in c:\\users\\davidef\\appdata\\local\\programs\\python\\python310\\lib\\site-packages (from stack-data->ipython->keras-tuner) (1.1.1)\n",
            "Requirement already satisfied: asttokens in c:\\users\\davidef\\appdata\\local\\programs\\python\\python310\\lib\\site-packages (from stack-data->ipython->keras-tuner) (2.0.8)\n",
            "Requirement already satisfied: pyasn1<0.5.0,>=0.4.6 in c:\\users\\davidef\\appdata\\local\\programs\\python\\python310\\lib\\site-packages (from pyasn1-modules>=0.2.1->google-auth<3,>=1.6.3->tensorboard->keras-tuner) (0.4.8)\n",
            "Requirement already satisfied: oauthlib>=3.0.0 in c:\\users\\davidef\\appdata\\local\\programs\\python\\python310\\lib\\site-packages (from requests-oauthlib>=0.7.0->google-auth-oauthlib<0.5,>=0.4.1->tensorboard->keras-tuner) (3.2.1)\n"
          ]
        },
        {
          "name": "stderr",
          "output_type": "stream",
          "text": [
            "\n",
            "[notice] A new release of pip available: 22.2.2 -> 22.3.1\n",
            "[notice] To update, run: python.exe -m pip install --upgrade pip\n"
          ]
        }
      ],
      "source": [
        "!pip install keras-tuner --upgrade"
      ]
    },
    {
      "cell_type": "code",
      "execution_count": 16,
      "id": "58ef560f",
      "metadata": {},
      "outputs": [],
      "source": [
        "import keras_tuner\n",
        "from tensorflow import keras\n"
      ]
    },
    {
      "cell_type": "markdown",
      "metadata": {
        "id": "nT2wMoZEtFn2"
      },
      "source": [
        "**[TODO - Students] Try to find best hyper-parameters for Hit Ratio at 10**"
      ]
    },
    {
      "cell_type": "code",
      "execution_count": 17,
      "id": "2d727630",
      "metadata": {},
      "outputs": [
        {
          "name": "stdout",
          "output_type": "stream",
          "text": [
            "Model: \"model_2\"\n",
            "__________________________________________________________________________________________________\n",
            " Layer (type)                   Output Shape         Param #     Connected to                     \n",
            "==================================================================================================\n",
            " input_5 (InputLayer)           [(None, 1)]          0           []                               \n",
            "                                                                                                  \n",
            " input_6 (InputLayer)           [(None, 1)]          0           []                               \n",
            "                                                                                                  \n",
            " embedding_4 (Embedding)        (None, 1, 8)         80000       ['input_5[0][0]']                \n",
            "                                                                                                  \n",
            " embedding_5 (Embedding)        (None, 1, 8)         160000      ['input_6[0][0]']                \n",
            "                                                                                                  \n",
            " flatten_4 (Flatten)            (None, 8)            0           ['embedding_4[0][0]']            \n",
            "                                                                                                  \n",
            " flatten_5 (Flatten)            (None, 8)            0           ['embedding_5[0][0]']            \n",
            "                                                                                                  \n",
            " concatenate_2 (Concatenate)    (None, 16)           0           ['flatten_4[0][0]',              \n",
            "                                                                  'flatten_5[0][0]']              \n",
            "                                                                                                  \n",
            " dense_2 (Dense)                (None, 1)            17          ['concatenate_2[0][0]']          \n",
            "                                                                                                  \n",
            "==================================================================================================\n",
            "Total params: 240,017\n",
            "Trainable params: 240,017\n",
            "Non-trainable params: 0\n",
            "__________________________________________________________________________________________________\n",
            "None\n",
            "Epoch 1/100\n",
            "838/838 [==============================] - 3s 3ms/step - loss: 0.5333 - accuracy: 0.7919 - val_loss: 0.4551 - val_accuracy: 0.8033\n",
            "Epoch 2/100\n",
            "838/838 [==============================] - 2s 3ms/step - loss: 0.4326 - accuracy: 0.8081 - val_loss: 0.4421 - val_accuracy: 0.8040\n",
            "Epoch 3/100\n",
            "838/838 [==============================] - 2s 2ms/step - loss: 0.4178 - accuracy: 0.8102 - val_loss: 0.4466 - val_accuracy: 0.7996\n",
            "Epoch 4/100\n",
            "838/838 [==============================] - 2s 2ms/step - loss: 0.4139 - accuracy: 0.8102 - val_loss: 0.4509 - val_accuracy: 0.7999\n",
            "Epoch 5/100\n",
            "838/838 [==============================] - 2s 2ms/step - loss: 0.4122 - accuracy: 0.8102 - val_loss: 0.4543 - val_accuracy: 0.7984\n",
            "Epoch 6/100\n",
            "838/838 [==============================] - 2s 2ms/step - loss: 0.4111 - accuracy: 0.8099 - val_loss: 0.4579 - val_accuracy: 0.8000\n",
            "Epoch 7/100\n",
            "838/838 [==============================] - 2s 3ms/step - loss: 0.4104 - accuracy: 0.8100 - val_loss: 0.4617 - val_accuracy: 0.7985\n",
            "Epoch 8/100\n",
            "838/838 [==============================] - 3s 4ms/step - loss: 0.4097 - accuracy: 0.8096 - val_loss: 0.4655 - val_accuracy: 0.8000\n",
            "Epoch 9/100\n",
            "838/838 [==============================] - 2s 2ms/step - loss: 0.4092 - accuracy: 0.8100 - val_loss: 0.4684 - val_accuracy: 0.8000\n",
            "Epoch 10/100\n",
            "838/838 [==============================] - 3s 3ms/step - loss: 0.4089 - accuracy: 0.8115 - val_loss: 0.4707 - val_accuracy: 0.8001\n",
            "Epoch 11/100\n",
            "838/838 [==============================] - 2s 2ms/step - loss: 0.4083 - accuracy: 0.8106 - val_loss: 0.4744 - val_accuracy: 0.7999\n",
            "Epoch 12/100\n",
            "824/838 [============================>.] - ETA: 0s - loss: 0.4080 - accuracy: 0.8115Restoring model weights from the end of the best epoch: 2.\n",
            "838/838 [==============================] - 2s 2ms/step - loss: 0.4081 - accuracy: 0.8112 - val_loss: 0.4772 - val_accuracy: 0.8001\n",
            "Epoch 12: early stopping\n"
          ]
        },
        {
          "data": {
            "image/png": "[encoded data removed]",
            "text/plain": [
              "<Figure size 1500x500 with 2 Axes>"
            ]
          },
          "metadata": {},
          "output_type": "display_data"
        }
      ],
      "source": [
        "from tensorflow.keras.models import Model\n",
        "from keras.layers import Dense, Embedding, Concatenate, Input, Flatten\n",
        "\n",
        "\n",
        "def NCF_FC(num_users, num_items):\n",
        "    # user_id embedding\n",
        "    users_input = Input(shape=(1,))\n",
        "    x_users = Embedding(input_dim=num_users, output_dim=8)(users_input)\n",
        "    x_users = Flatten()(x_users)\n",
        "\n",
        "    # item_id embedding\n",
        "    items_input = Input(shape=(1,))\n",
        "    x_items = Embedding(input_dim=num_items, output_dim=8)(items_input)\n",
        "    x_items = Flatten()(x_items)\n",
        "\n",
        "    # concatenation\n",
        "    x = Concatenate(axis=1)([x_users, x_items])\n",
        "\n",
        "    # output layer\n",
        "    output = Dense(1, activation=\"sigmoid\")(x)\n",
        "\n",
        "    # Build the model\n",
        "    model = Model(inputs=[users_input, items_input], outputs=output)\n",
        "\n",
        "    # compile the model\n",
        "    model.compile(optimizer='adam',\n",
        "                  loss=\"binary_crossentropy\", metrics=['accuracy'])\n",
        "\n",
        "    # summarize the model\n",
        "    print(model.summary())\n",
        "\n",
        "    return model\n",
        "\n",
        "\n",
        "num_users = 10_000\n",
        "num_items = 20_000\n",
        "\n",
        "model = NCF(num_users, num_items)\n",
        "\n",
        "es = EarlyStopping(monitor='val_loss', patience=10,\n",
        "                   mode='min', restore_best_weights=True, verbose=1)\n",
        "mc = ModelCheckpoint(\"best-model\", monitor=\"val_loss\",\n",
        "                     save_best_only=True, save_weights_only=True)\n",
        "\n",
        "#model.fit([np.array(users), np.array(items)], np.array(labels), epochs=2, verbose=1)\n",
        "history = model.fit([np.array(users), np.array(items)], np.array(labels).reshape(-1),\n",
        "                    validation_split=0.2, epochs=100, verbose=1, callbacks=[es, mc])\n",
        "\n",
        "fig, axs = plt.subplots(1, 2, figsize=(15, 5))\n",
        "\n",
        "# summarize history for accuracy\n",
        "axs[0].plot(history.history['accuracy'])\n",
        "axs[0].plot(history.history['val_accuracy'])\n",
        "axs[0].set_title('model accuracy')\n",
        "axs[0].set_ylabel('accuracy')\n",
        "axs[0].set_xlabel('epoch')\n",
        "axs[0].legend(['train', 'val'], loc='upper left')\n",
        "\n",
        "# summarize history for loss\n",
        "axs[1].plot(history.history['loss'])\n",
        "axs[1].plot(history.history['val_loss'])\n",
        "axs[1].set_title('model loss')\n",
        "axs[1].set_ylabel('loss')\n",
        "axs[1].set_xlabel('epoch')\n",
        "axs[1].legend(['train', 'val'], loc='upper left')\n",
        "\n",
        "plt.show()\n"
      ]
    },
    {
      "cell_type": "markdown",
      "metadata": {
        "id": "1bf33af6"
      },
      "source": [
        "### Step 2 : Add new features in order to improve the Hit Ratio at 10\n",
        "\n",
        "The following code load items information and users information for Movilens 100 K dataset"
      ]
    },
    {
      "cell_type": "code",
      "execution_count": 31,
      "metadata": {
        "ExecuteTime": {
          "start_time": "2021-11-15T14:55:36.442Z"
        },
        "colab": {
          "base_uri": "https://localhost:8080/",
          "height": 340
        },
        "executionInfo": {
          "elapsed": 704,
          "status": "ok",
          "timestamp": 1637160943648,
          "user": {
            "displayName": "Antoine Collin",
            "photoUrl": "https://lh3.googleusercontent.com/a/default-user=s64",
            "userId": "01107865217976062482"
          },
          "user_tz": -60
        },
        "id": "c80689e6",
        "outputId": "e191b6ba-09f3-47d1-a2ca-4a6bef44ab51"
      },
      "outputs": [
        {
          "data": {
            "text/html": [
              "<div>\n",
              "<style scoped>\n",
              "    .dataframe tbody tr th:only-of-type {\n",
              "        vertical-align: middle;\n",
              "    }\n",
              "\n",
              "    .dataframe tbody tr th {\n",
              "        vertical-align: top;\n",
              "    }\n",
              "\n",
              "    .dataframe thead th {\n",
              "        text-align: right;\n",
              "    }\n",
              "</style>\n",
              "<table border=\"1\" class=\"dataframe\">\n",
              "  <thead>\n",
              "    <tr style=\"text-align: right;\">\n",
              "      <th></th>\n",
              "      <th>movieId</th>\n",
              "      <th>movie title</th>\n",
              "      <th>release date</th>\n",
              "      <th>video release date</th>\n",
              "      <th>IMDb URL</th>\n",
              "      <th>unknown</th>\n",
              "      <th>Action</th>\n",
              "      <th>Adventure</th>\n",
              "      <th>Animation</th>\n",
              "      <th>Children's</th>\n",
              "      <th>...</th>\n",
              "      <th>Fantasy</th>\n",
              "      <th>Film-Noir</th>\n",
              "      <th>Horror</th>\n",
              "      <th>Musical</th>\n",
              "      <th>Mystery</th>\n",
              "      <th>Romance</th>\n",
              "      <th>Sci-Fi</th>\n",
              "      <th>Thriller</th>\n",
              "      <th>War</th>\n",
              "      <th>Western</th>\n",
              "    </tr>\n",
              "  </thead>\n",
              "  <tbody>\n",
              "    <tr>\n",
              "      <th>0</th>\n",
              "      <td>1</td>\n",
              "      <td>Toy Story (1995)</td>\n",
              "      <td>01-Jan-1995</td>\n",
              "      <td>NaN</td>\n",
              "      <td>http://us.imdb.com/M/title-exact?Toy%20Story%2...</td>\n",
              "      <td>0</td>\n",
              "      <td>0</td>\n",
              "      <td>0</td>\n",
              "      <td>1</td>\n",
              "      <td>1</td>\n",
              "      <td>...</td>\n",
              "      <td>0</td>\n",
              "      <td>0</td>\n",
              "      <td>0</td>\n",
              "      <td>0</td>\n",
              "      <td>0</td>\n",
              "      <td>0</td>\n",
              "      <td>0</td>\n",
              "      <td>0</td>\n",
              "      <td>0</td>\n",
              "      <td>0</td>\n",
              "    </tr>\n",
              "    <tr>\n",
              "      <th>1</th>\n",
              "      <td>2</td>\n",
              "      <td>GoldenEye (1995)</td>\n",
              "      <td>01-Jan-1995</td>\n",
              "      <td>NaN</td>\n",
              "      <td>http://us.imdb.com/M/title-exact?GoldenEye%20(...</td>\n",
              "      <td>0</td>\n",
              "      <td>1</td>\n",
              "      <td>1</td>\n",
              "      <td>0</td>\n",
              "      <td>0</td>\n",
              "      <td>...</td>\n",
              "      <td>0</td>\n",
              "      <td>0</td>\n",
              "      <td>0</td>\n",
              "      <td>0</td>\n",
              "      <td>0</td>\n",
              "      <td>0</td>\n",
              "      <td>0</td>\n",
              "      <td>1</td>\n",
              "      <td>0</td>\n",
              "      <td>0</td>\n",
              "    </tr>\n",
              "    <tr>\n",
              "      <th>2</th>\n",
              "      <td>3</td>\n",
              "      <td>Four Rooms (1995)</td>\n",
              "      <td>01-Jan-1995</td>\n",
              "      <td>NaN</td>\n",
              "      <td>http://us.imdb.com/M/title-exact?Four%20Rooms%...</td>\n",
              "      <td>0</td>\n",
              "      <td>0</td>\n",
              "      <td>0</td>\n",
              "      <td>0</td>\n",
              "      <td>0</td>\n",
              "      <td>...</td>\n",
              "      <td>0</td>\n",
              "      <td>0</td>\n",
              "      <td>0</td>\n",
              "      <td>0</td>\n",
              "      <td>0</td>\n",
              "      <td>0</td>\n",
              "      <td>0</td>\n",
              "      <td>1</td>\n",
              "      <td>0</td>\n",
              "      <td>0</td>\n",
              "    </tr>\n",
              "    <tr>\n",
              "      <th>3</th>\n",
              "      <td>4</td>\n",
              "      <td>Get Shorty (1995)</td>\n",
              "      <td>01-Jan-1995</td>\n",
              "      <td>NaN</td>\n",
              "      <td>http://us.imdb.com/M/title-exact?Get%20Shorty%...</td>\n",
              "      <td>0</td>\n",
              "      <td>1</td>\n",
              "      <td>0</td>\n",
              "      <td>0</td>\n",
              "      <td>0</td>\n",
              "      <td>...</td>\n",
              "      <td>0</td>\n",
              "      <td>0</td>\n",
              "      <td>0</td>\n",
              "      <td>0</td>\n",
              "      <td>0</td>\n",
              "      <td>0</td>\n",
              "      <td>0</td>\n",
              "      <td>0</td>\n",
              "      <td>0</td>\n",
              "      <td>0</td>\n",
              "    </tr>\n",
              "    <tr>\n",
              "      <th>4</th>\n",
              "      <td>5</td>\n",
              "      <td>Copycat (1995)</td>\n",
              "      <td>01-Jan-1995</td>\n",
              "      <td>NaN</td>\n",
              "      <td>http://us.imdb.com/M/title-exact?Copycat%20(1995)</td>\n",
              "      <td>0</td>\n",
              "      <td>0</td>\n",
              "      <td>0</td>\n",
              "      <td>0</td>\n",
              "      <td>0</td>\n",
              "      <td>...</td>\n",
              "      <td>0</td>\n",
              "      <td>0</td>\n",
              "      <td>0</td>\n",
              "      <td>0</td>\n",
              "      <td>0</td>\n",
              "      <td>0</td>\n",
              "      <td>0</td>\n",
              "      <td>1</td>\n",
              "      <td>0</td>\n",
              "      <td>0</td>\n",
              "    </tr>\n",
              "  </tbody>\n",
              "</table>\n",
              "<p>5 rows × 24 columns</p>\n",
              "</div>"
            ],
            "text/plain": [
              "   movieId        movie title release date  video release date  \\\n",
              "0        1   Toy Story (1995)  01-Jan-1995                 NaN   \n",
              "1        2   GoldenEye (1995)  01-Jan-1995                 NaN   \n",
              "2        3  Four Rooms (1995)  01-Jan-1995                 NaN   \n",
              "3        4  Get Shorty (1995)  01-Jan-1995                 NaN   \n",
              "4        5     Copycat (1995)  01-Jan-1995                 NaN   \n",
              "\n",
              "                                            IMDb URL  unknown  Action  \\\n",
              "0  http://us.imdb.com/M/title-exact?Toy%20Story%2...        0       0   \n",
              "1  http://us.imdb.com/M/title-exact?GoldenEye%20(...        0       1   \n",
              "2  http://us.imdb.com/M/title-exact?Four%20Rooms%...        0       0   \n",
              "3  http://us.imdb.com/M/title-exact?Get%20Shorty%...        0       1   \n",
              "4  http://us.imdb.com/M/title-exact?Copycat%20(1995)        0       0   \n",
              "\n",
              "   Adventure  Animation  Children's  ...  Fantasy  Film-Noir  Horror  Musical  \\\n",
              "0          0          1           1  ...        0          0       0        0   \n",
              "1          1          0           0  ...        0          0       0        0   \n",
              "2          0          0           0  ...        0          0       0        0   \n",
              "3          0          0           0  ...        0          0       0        0   \n",
              "4          0          0           0  ...        0          0       0        0   \n",
              "\n",
              "   Mystery  Romance  Sci-Fi  Thriller  War  Western  \n",
              "0        0        0       0         0    0        0  \n",
              "1        0        0       0         1    0        0  \n",
              "2        0        0       0         1    0        0  \n",
              "3        0        0       0         0    0        0  \n",
              "4        0        0       0         1    0        0  \n",
              "\n",
              "[5 rows x 24 columns]"
            ]
          },
          "execution_count": 31,
          "metadata": {},
          "output_type": "execute_result"
        }
      ],
      "source": [
        "# Load genre\n",
        "genres = pd.read_csv(path+\"u.genre\", header=None, names=['genre', 'genreId'], sep=\"|\")['genre'].tolist()\n",
        "\n",
        "# Load item information\n",
        "items_columns = ['movieId', 'movie title', 'release date', 'video release date', 'IMDb URL']+genres\n",
        "items = pd.read_csv(path+\"u.item\", header=None, names=items_columns, encoding = \"ISO-8859-1\", sep=\"|\")\n",
        "items.head()"
      ]
    },
    {
      "cell_type": "code",
      "execution_count": 32,
      "metadata": {
        "ExecuteTime": {
          "start_time": "2021-11-15T14:55:38.174Z"
        },
        "colab": {
          "base_uri": "https://localhost:8080/",
          "height": 513
        },
        "executionInfo": {
          "elapsed": 27281,
          "status": "ok",
          "timestamp": 1637160972302,
          "user": {
            "displayName": "Antoine Collin",
            "photoUrl": "https://lh3.googleusercontent.com/a/default-user=s64",
            "userId": "01107865217976062482"
          },
          "user_tz": -60
        },
        "id": "ff71efdd",
        "outputId": "29927980-cc17-4f51-dd25-94f775876d83"
      },
      "outputs": [
        {
          "data": {
            "text/html": [
              "<div>\n",
              "<style scoped>\n",
              "    .dataframe tbody tr th:only-of-type {\n",
              "        vertical-align: middle;\n",
              "    }\n",
              "\n",
              "    .dataframe tbody tr th {\n",
              "        vertical-align: top;\n",
              "    }\n",
              "\n",
              "    .dataframe thead th {\n",
              "        text-align: right;\n",
              "    }\n",
              "</style>\n",
              "<table border=\"1\" class=\"dataframe\">\n",
              "  <thead>\n",
              "    <tr style=\"text-align: right;\">\n",
              "      <th></th>\n",
              "      <th>userId</th>\n",
              "      <th>movieId</th>\n",
              "      <th>rating</th>\n",
              "      <th>timestamp</th>\n",
              "      <th>movie title</th>\n",
              "      <th>release date</th>\n",
              "      <th>video release date</th>\n",
              "      <th>IMDb URL</th>\n",
              "      <th>unknown</th>\n",
              "      <th>Action</th>\n",
              "      <th>...</th>\n",
              "      <th>Fantasy</th>\n",
              "      <th>Film-Noir</th>\n",
              "      <th>Horror</th>\n",
              "      <th>Musical</th>\n",
              "      <th>Mystery</th>\n",
              "      <th>Romance</th>\n",
              "      <th>Sci-Fi</th>\n",
              "      <th>Thriller</th>\n",
              "      <th>War</th>\n",
              "      <th>Western</th>\n",
              "    </tr>\n",
              "  </thead>\n",
              "  <tbody>\n",
              "    <tr>\n",
              "      <th>0</th>\n",
              "      <td>259</td>\n",
              "      <td>255</td>\n",
              "      <td>4</td>\n",
              "      <td>874724710</td>\n",
              "      <td>My Best Friend's Wedding (1997)</td>\n",
              "      <td>20-Jun-1997</td>\n",
              "      <td>NaN</td>\n",
              "      <td>http://us.imdb.com/M/title-exact?My+Best+Frien...</td>\n",
              "      <td>0</td>\n",
              "      <td>0</td>\n",
              "      <td>...</td>\n",
              "      <td>0</td>\n",
              "      <td>0</td>\n",
              "      <td>0</td>\n",
              "      <td>0</td>\n",
              "      <td>0</td>\n",
              "      <td>1</td>\n",
              "      <td>0</td>\n",
              "      <td>0</td>\n",
              "      <td>0</td>\n",
              "      <td>0</td>\n",
              "    </tr>\n",
              "    <tr>\n",
              "      <th>1</th>\n",
              "      <td>30</td>\n",
              "      <td>255</td>\n",
              "      <td>4</td>\n",
              "      <td>875059984</td>\n",
              "      <td>My Best Friend's Wedding (1997)</td>\n",
              "      <td>20-Jun-1997</td>\n",
              "      <td>NaN</td>\n",
              "      <td>http://us.imdb.com/M/title-exact?My+Best+Frien...</td>\n",
              "      <td>0</td>\n",
              "      <td>0</td>\n",
              "      <td>...</td>\n",
              "      <td>0</td>\n",
              "      <td>0</td>\n",
              "      <td>0</td>\n",
              "      <td>0</td>\n",
              "      <td>0</td>\n",
              "      <td>1</td>\n",
              "      <td>0</td>\n",
              "      <td>0</td>\n",
              "      <td>0</td>\n",
              "      <td>0</td>\n",
              "    </tr>\n",
              "    <tr>\n",
              "      <th>2</th>\n",
              "      <td>116</td>\n",
              "      <td>255</td>\n",
              "      <td>3</td>\n",
              "      <td>876452524</td>\n",
              "      <td>My Best Friend's Wedding (1997)</td>\n",
              "      <td>20-Jun-1997</td>\n",
              "      <td>NaN</td>\n",
              "      <td>http://us.imdb.com/M/title-exact?My+Best+Frien...</td>\n",
              "      <td>0</td>\n",
              "      <td>0</td>\n",
              "      <td>...</td>\n",
              "      <td>0</td>\n",
              "      <td>0</td>\n",
              "      <td>0</td>\n",
              "      <td>0</td>\n",
              "      <td>0</td>\n",
              "      <td>1</td>\n",
              "      <td>0</td>\n",
              "      <td>0</td>\n",
              "      <td>0</td>\n",
              "      <td>0</td>\n",
              "    </tr>\n",
              "    <tr>\n",
              "      <th>3</th>\n",
              "      <td>330</td>\n",
              "      <td>255</td>\n",
              "      <td>4</td>\n",
              "      <td>876544278</td>\n",
              "      <td>My Best Friend's Wedding (1997)</td>\n",
              "      <td>20-Jun-1997</td>\n",
              "      <td>NaN</td>\n",
              "      <td>http://us.imdb.com/M/title-exact?My+Best+Frien...</td>\n",
              "      <td>0</td>\n",
              "      <td>0</td>\n",
              "      <td>...</td>\n",
              "      <td>0</td>\n",
              "      <td>0</td>\n",
              "      <td>0</td>\n",
              "      <td>0</td>\n",
              "      <td>0</td>\n",
              "      <td>1</td>\n",
              "      <td>0</td>\n",
              "      <td>0</td>\n",
              "      <td>0</td>\n",
              "      <td>0</td>\n",
              "    </tr>\n",
              "    <tr>\n",
              "      <th>4</th>\n",
              "      <td>314</td>\n",
              "      <td>255</td>\n",
              "      <td>5</td>\n",
              "      <td>877886221</td>\n",
              "      <td>My Best Friend's Wedding (1997)</td>\n",
              "      <td>20-Jun-1997</td>\n",
              "      <td>NaN</td>\n",
              "      <td>http://us.imdb.com/M/title-exact?My+Best+Frien...</td>\n",
              "      <td>0</td>\n",
              "      <td>0</td>\n",
              "      <td>...</td>\n",
              "      <td>0</td>\n",
              "      <td>0</td>\n",
              "      <td>0</td>\n",
              "      <td>0</td>\n",
              "      <td>0</td>\n",
              "      <td>1</td>\n",
              "      <td>0</td>\n",
              "      <td>0</td>\n",
              "      <td>0</td>\n",
              "      <td>0</td>\n",
              "    </tr>\n",
              "  </tbody>\n",
              "</table>\n",
              "<p>5 rows × 27 columns</p>\n",
              "</div>"
            ],
            "text/plain": [
              "   userId  movieId  rating  timestamp                      movie title  \\\n",
              "0     259      255       4  874724710  My Best Friend's Wedding (1997)   \n",
              "1      30      255       4  875059984  My Best Friend's Wedding (1997)   \n",
              "2     116      255       3  876452524  My Best Friend's Wedding (1997)   \n",
              "3     330      255       4  876544278  My Best Friend's Wedding (1997)   \n",
              "4     314      255       5  877886221  My Best Friend's Wedding (1997)   \n",
              "\n",
              "  release date  video release date  \\\n",
              "0  20-Jun-1997                 NaN   \n",
              "1  20-Jun-1997                 NaN   \n",
              "2  20-Jun-1997                 NaN   \n",
              "3  20-Jun-1997                 NaN   \n",
              "4  20-Jun-1997                 NaN   \n",
              "\n",
              "                                            IMDb URL  unknown  Action  ...  \\\n",
              "0  http://us.imdb.com/M/title-exact?My+Best+Frien...        0       0  ...   \n",
              "1  http://us.imdb.com/M/title-exact?My+Best+Frien...        0       0  ...   \n",
              "2  http://us.imdb.com/M/title-exact?My+Best+Frien...        0       0  ...   \n",
              "3  http://us.imdb.com/M/title-exact?My+Best+Frien...        0       0  ...   \n",
              "4  http://us.imdb.com/M/title-exact?My+Best+Frien...        0       0  ...   \n",
              "\n",
              "   Fantasy  Film-Noir  Horror  Musical  Mystery  Romance  Sci-Fi  Thriller  \\\n",
              "0        0          0       0        0        0        1       0         0   \n",
              "1        0          0       0        0        0        1       0         0   \n",
              "2        0          0       0        0        0        1       0         0   \n",
              "3        0          0       0        0        0        1       0         0   \n",
              "4        0          0       0        0        0        1       0         0   \n",
              "\n",
              "   War  Western  \n",
              "0    0        0  \n",
              "1    0        0  \n",
              "2    0        0  \n",
              "3    0        0  \n",
              "4    0        0  \n",
              "\n",
              "[5 rows x 27 columns]"
            ]
          },
          "execution_count": 32,
          "metadata": {},
          "output_type": "execute_result"
        }
      ],
      "source": [
        "# Add item information to ratings\n",
        "ratings_with_items_info = ratings.merge(items, left_on='movieId', right_on='movieId')\n",
        "ratings_with_items_info.head()"
      ]
    },
    {
      "cell_type": "code",
      "execution_count": 33,
      "metadata": {
        "ExecuteTime": {
          "start_time": "2021-11-15T14:55:39.513Z"
        },
        "colab": {
          "base_uri": "https://localhost:8080/",
          "height": 204
        },
        "executionInfo": {
          "elapsed": 18,
          "status": "ok",
          "timestamp": 1637160972303,
          "user": {
            "displayName": "Antoine Collin",
            "photoUrl": "https://lh3.googleusercontent.com/a/default-user=s64",
            "userId": "01107865217976062482"
          },
          "user_tz": -60
        },
        "id": "2e2d0cb0",
        "outputId": "f3150590-996c-4630-bd10-f9c5f5624850"
      },
      "outputs": [
        {
          "data": {
            "text/html": [
              "<div>\n",
              "<style scoped>\n",
              "    .dataframe tbody tr th:only-of-type {\n",
              "        vertical-align: middle;\n",
              "    }\n",
              "\n",
              "    .dataframe tbody tr th {\n",
              "        vertical-align: top;\n",
              "    }\n",
              "\n",
              "    .dataframe thead th {\n",
              "        text-align: right;\n",
              "    }\n",
              "</style>\n",
              "<table border=\"1\" class=\"dataframe\">\n",
              "  <thead>\n",
              "    <tr style=\"text-align: right;\">\n",
              "      <th></th>\n",
              "      <th>userId</th>\n",
              "      <th>age</th>\n",
              "      <th>gender</th>\n",
              "      <th>occupation</th>\n",
              "      <th>zip code</th>\n",
              "    </tr>\n",
              "  </thead>\n",
              "  <tbody>\n",
              "    <tr>\n",
              "      <th>0</th>\n",
              "      <td>1</td>\n",
              "      <td>24</td>\n",
              "      <td>M</td>\n",
              "      <td>technician</td>\n",
              "      <td>85711</td>\n",
              "    </tr>\n",
              "    <tr>\n",
              "      <th>1</th>\n",
              "      <td>2</td>\n",
              "      <td>53</td>\n",
              "      <td>F</td>\n",
              "      <td>other</td>\n",
              "      <td>94043</td>\n",
              "    </tr>\n",
              "    <tr>\n",
              "      <th>2</th>\n",
              "      <td>3</td>\n",
              "      <td>23</td>\n",
              "      <td>M</td>\n",
              "      <td>writer</td>\n",
              "      <td>32067</td>\n",
              "    </tr>\n",
              "    <tr>\n",
              "      <th>3</th>\n",
              "      <td>4</td>\n",
              "      <td>24</td>\n",
              "      <td>M</td>\n",
              "      <td>technician</td>\n",
              "      <td>43537</td>\n",
              "    </tr>\n",
              "    <tr>\n",
              "      <th>4</th>\n",
              "      <td>5</td>\n",
              "      <td>33</td>\n",
              "      <td>F</td>\n",
              "      <td>other</td>\n",
              "      <td>15213</td>\n",
              "    </tr>\n",
              "  </tbody>\n",
              "</table>\n",
              "</div>"
            ],
            "text/plain": [
              "   userId  age gender  occupation zip code\n",
              "0       1   24      M  technician    85711\n",
              "1       2   53      F       other    94043\n",
              "2       3   23      M      writer    32067\n",
              "3       4   24      M  technician    43537\n",
              "4       5   33      F       other    15213"
            ]
          },
          "execution_count": 33,
          "metadata": {},
          "output_type": "execute_result"
        }
      ],
      "source": [
        "# Load occupation\n",
        "occupations = pd.read_csv(path+\"u.occupation\", header=None, names=['occupation'], sep=\"|\")['occupation'].tolist()\n",
        "\n",
        "# Load user information\n",
        "users = pd.read_csv(path+\"u.user\", header=None, names=['userId', 'age', 'gender', 'occupation', 'zip code'], sep=\"|\")\n",
        "users.head()"
      ]
    },
    {
      "cell_type": "code",
      "execution_count": 34,
      "metadata": {
        "colab": {
          "base_uri": "https://localhost:8080/",
          "height": 411
        },
        "executionInfo": {
          "elapsed": 452,
          "status": "ok",
          "timestamp": 1637160972741,
          "user": {
            "displayName": "Antoine Collin",
            "photoUrl": "https://lh3.googleusercontent.com/a/default-user=s64",
            "userId": "01107865217976062482"
          },
          "user_tz": -60
        },
        "id": "475404a9",
        "outputId": "f202ed88-1381-4c4b-b720-140d008de6ca"
      },
      "outputs": [
        {
          "data": {
            "text/html": [
              "<div>\n",
              "<style scoped>\n",
              "    .dataframe tbody tr th:only-of-type {\n",
              "        vertical-align: middle;\n",
              "    }\n",
              "\n",
              "    .dataframe tbody tr th {\n",
              "        vertical-align: top;\n",
              "    }\n",
              "\n",
              "    .dataframe thead th {\n",
              "        text-align: right;\n",
              "    }\n",
              "</style>\n",
              "<table border=\"1\" class=\"dataframe\">\n",
              "  <thead>\n",
              "    <tr style=\"text-align: right;\">\n",
              "      <th></th>\n",
              "      <th>userId</th>\n",
              "      <th>movieId</th>\n",
              "      <th>rating</th>\n",
              "      <th>timestamp</th>\n",
              "      <th>movie title</th>\n",
              "      <th>release date</th>\n",
              "      <th>video release date</th>\n",
              "      <th>IMDb URL</th>\n",
              "      <th>unknown</th>\n",
              "      <th>Action</th>\n",
              "      <th>...</th>\n",
              "      <th>Mystery</th>\n",
              "      <th>Romance</th>\n",
              "      <th>Sci-Fi</th>\n",
              "      <th>Thriller</th>\n",
              "      <th>War</th>\n",
              "      <th>Western</th>\n",
              "      <th>age</th>\n",
              "      <th>gender</th>\n",
              "      <th>occupation</th>\n",
              "      <th>zip code</th>\n",
              "    </tr>\n",
              "  </thead>\n",
              "  <tbody>\n",
              "    <tr>\n",
              "      <th>0</th>\n",
              "      <td>259</td>\n",
              "      <td>255</td>\n",
              "      <td>4</td>\n",
              "      <td>874724710</td>\n",
              "      <td>My Best Friend's Wedding (1997)</td>\n",
              "      <td>20-Jun-1997</td>\n",
              "      <td>NaN</td>\n",
              "      <td>http://us.imdb.com/M/title-exact?My+Best+Frien...</td>\n",
              "      <td>0</td>\n",
              "      <td>0</td>\n",
              "      <td>...</td>\n",
              "      <td>0</td>\n",
              "      <td>1</td>\n",
              "      <td>0</td>\n",
              "      <td>0</td>\n",
              "      <td>0</td>\n",
              "      <td>0</td>\n",
              "      <td>21</td>\n",
              "      <td>M</td>\n",
              "      <td>student</td>\n",
              "      <td>48823</td>\n",
              "    </tr>\n",
              "    <tr>\n",
              "      <th>1</th>\n",
              "      <td>259</td>\n",
              "      <td>772</td>\n",
              "      <td>4</td>\n",
              "      <td>874724882</td>\n",
              "      <td>Kids (1995)</td>\n",
              "      <td>01-Jan-1995</td>\n",
              "      <td>NaN</td>\n",
              "      <td>http://us.imdb.com/M/title-exact?Kids%20(1995)</td>\n",
              "      <td>0</td>\n",
              "      <td>0</td>\n",
              "      <td>...</td>\n",
              "      <td>0</td>\n",
              "      <td>0</td>\n",
              "      <td>0</td>\n",
              "      <td>0</td>\n",
              "      <td>0</td>\n",
              "      <td>0</td>\n",
              "      <td>21</td>\n",
              "      <td>M</td>\n",
              "      <td>student</td>\n",
              "      <td>48823</td>\n",
              "    </tr>\n",
              "    <tr>\n",
              "      <th>2</th>\n",
              "      <td>259</td>\n",
              "      <td>117</td>\n",
              "      <td>4</td>\n",
              "      <td>874724988</td>\n",
              "      <td>Rock, The (1996)</td>\n",
              "      <td>07-Jun-1996</td>\n",
              "      <td>NaN</td>\n",
              "      <td>http://us.imdb.com/M/title-exact?Rock,%20The%2...</td>\n",
              "      <td>0</td>\n",
              "      <td>1</td>\n",
              "      <td>...</td>\n",
              "      <td>0</td>\n",
              "      <td>0</td>\n",
              "      <td>0</td>\n",
              "      <td>1</td>\n",
              "      <td>0</td>\n",
              "      <td>0</td>\n",
              "      <td>21</td>\n",
              "      <td>M</td>\n",
              "      <td>student</td>\n",
              "      <td>48823</td>\n",
              "    </tr>\n",
              "    <tr>\n",
              "      <th>3</th>\n",
              "      <td>259</td>\n",
              "      <td>405</td>\n",
              "      <td>3</td>\n",
              "      <td>874725120</td>\n",
              "      <td>Mission: Impossible (1996)</td>\n",
              "      <td>22-May-1996</td>\n",
              "      <td>NaN</td>\n",
              "      <td>http://us.imdb.com/M/title-exact?Mission:%20Im...</td>\n",
              "      <td>0</td>\n",
              "      <td>1</td>\n",
              "      <td>...</td>\n",
              "      <td>1</td>\n",
              "      <td>0</td>\n",
              "      <td>0</td>\n",
              "      <td>0</td>\n",
              "      <td>0</td>\n",
              "      <td>0</td>\n",
              "      <td>21</td>\n",
              "      <td>M</td>\n",
              "      <td>student</td>\n",
              "      <td>48823</td>\n",
              "    </tr>\n",
              "    <tr>\n",
              "      <th>4</th>\n",
              "      <td>259</td>\n",
              "      <td>176</td>\n",
              "      <td>4</td>\n",
              "      <td>874725386</td>\n",
              "      <td>Aliens (1986)</td>\n",
              "      <td>01-Jan-1986</td>\n",
              "      <td>NaN</td>\n",
              "      <td>http://us.imdb.com/M/title-exact?Aliens%20(1986)</td>\n",
              "      <td>0</td>\n",
              "      <td>1</td>\n",
              "      <td>...</td>\n",
              "      <td>0</td>\n",
              "      <td>0</td>\n",
              "      <td>1</td>\n",
              "      <td>1</td>\n",
              "      <td>1</td>\n",
              "      <td>0</td>\n",
              "      <td>21</td>\n",
              "      <td>M</td>\n",
              "      <td>student</td>\n",
              "      <td>48823</td>\n",
              "    </tr>\n",
              "  </tbody>\n",
              "</table>\n",
              "<p>5 rows × 31 columns</p>\n",
              "</div>"
            ],
            "text/plain": [
              "   userId  movieId  rating  timestamp                      movie title  \\\n",
              "0     259      255       4  874724710  My Best Friend's Wedding (1997)   \n",
              "1     259      772       4  874724882                      Kids (1995)   \n",
              "2     259      117       4  874724988                 Rock, The (1996)   \n",
              "3     259      405       3  874725120       Mission: Impossible (1996)   \n",
              "4     259      176       4  874725386                    Aliens (1986)   \n",
              "\n",
              "  release date  video release date  \\\n",
              "0  20-Jun-1997                 NaN   \n",
              "1  01-Jan-1995                 NaN   \n",
              "2  07-Jun-1996                 NaN   \n",
              "3  22-May-1996                 NaN   \n",
              "4  01-Jan-1986                 NaN   \n",
              "\n",
              "                                            IMDb URL  unknown  Action  ...  \\\n",
              "0  http://us.imdb.com/M/title-exact?My+Best+Frien...        0       0  ...   \n",
              "1     http://us.imdb.com/M/title-exact?Kids%20(1995)        0       0  ...   \n",
              "2  http://us.imdb.com/M/title-exact?Rock,%20The%2...        0       1  ...   \n",
              "3  http://us.imdb.com/M/title-exact?Mission:%20Im...        0       1  ...   \n",
              "4   http://us.imdb.com/M/title-exact?Aliens%20(1986)        0       1  ...   \n",
              "\n",
              "   Mystery  Romance  Sci-Fi  Thriller  War  Western  age  gender  occupation  \\\n",
              "0        0        1       0         0    0        0   21       M     student   \n",
              "1        0        0       0         0    0        0   21       M     student   \n",
              "2        0        0       0         1    0        0   21       M     student   \n",
              "3        1        0       0         0    0        0   21       M     student   \n",
              "4        0        0       1         1    1        0   21       M     student   \n",
              "\n",
              "   zip code  \n",
              "0     48823  \n",
              "1     48823  \n",
              "2     48823  \n",
              "3     48823  \n",
              "4     48823  \n",
              "\n",
              "[5 rows x 31 columns]"
            ]
          },
          "execution_count": 34,
          "metadata": {},
          "output_type": "execute_result"
        }
      ],
      "source": [
        "# Add item or/and user information to ratings\n",
        "ratings_with_items_users_info = ratings_with_items_info.merge(users, left_on='userId', right_on='userId')\n",
        "ratings_with_items_users_info.head()"
      ]
    },
    {
      "cell_type": "code",
      "execution_count": 35,
      "metadata": {
        "id": "f5502f36"
      },
      "outputs": [
        {
          "data": {
            "text/plain": [
              "' your code here '"
            ]
          },
          "execution_count": 35,
          "metadata": {},
          "output_type": "execute_result"
        }
      ],
      "source": [
        "''' your code here '''\n"
      ]
    },
    {
      "cell_type": "markdown",
      "metadata": {
        "id": "d1866435"
      },
      "source": [
        "### Step 3 - Improve the network by using a General Matrix Factorisation layer\n",
        "\n",
        "\n",
        "![architecture](https://miro.medium.com/max/1400/1*3Ecg3wHR7x_AAta3JuHcUA@2x.png)"
      ]
    },
    {
      "cell_type": "markdown",
      "metadata": {
        "id": "we2LlEnNtlZe"
      },
      "source": [
        "**[TODO - Students] Modify the NFC function to include an element-wise product layer instead of a concatenated &amp; dense layer, then train and evaluate it**"
      ]
    },
    {
      "cell_type": "markdown",
      "metadata": {
        "id": "f4517563"
      },
      "source": [
        "### Step 4 - Final architecture\n",
        "\n",
        "\n",
        "![architecture](https://miro.medium.com/max/1400/1*CoETyuU36fshduKAfFhCrg.png)"
      ]
    },
    {
      "cell_type": "markdown",
      "metadata": {
        "id": "MUNjDLJFt4F-"
      },
      "source": [
        "**[TODO - Students] By combining the previous question, try to reproduce the above architecture, train and evaluate it**"
      ]
    }
  ],
  "metadata": {
    "accelerator": "GPU",
    "colab": {
      "collapsed_sections": [],
      "name": "04-notebook_DL_deep-recommender-system_students.ipynb",
      "provenance": []
    },
    "kernelspec": {
      "display_name": "Python 3.10.7 64-bit",
      "language": "python",
      "name": "python3"
    },
    "language_info": {
      "codemirror_mode": {
        "name": "ipython",
        "version": 3
      },
      "file_extension": ".py",
      "mimetype": "text/x-python",
      "name": "python",
      "nbconvert_exporter": "python",
      "pygments_lexer": "ipython3",
      "version": "3.10.7"
    },
    "toc": {
      "base_numbering": 1,
      "nav_menu": {},
      "number_sections": true,
      "sideBar": true,
      "skip_h1_title": true,
      "title_cell": "Table of Contents",
      "title_sidebar": "Contents",
      "toc_cell": true,
      "toc_position": {},
      "toc_section_display": true,
      "toc_window_display": false
    },
    "vscode": {
      "interpreter": {
        "hash": "c2fd89eeb220476f05a53e52c53eea1cd07addcd7afc8b780a14f2208500074d"
      }
    }
  },
  "nbformat": 4,
  "nbformat_minor": 5
}
